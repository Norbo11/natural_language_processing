{
 "cells": [
  {
   "cell_type": "code",
   "execution_count": 4,
   "metadata": {
    "scrolled": true
   },
   "outputs": [
    {
     "name": "stdout",
     "output_type": "stream",
     "text": [
      "The autoreload extension is already loaded. To reload it, use:\n",
      "  %reload_ext autoreload\n",
      "[nltk_data] Downloading package wordnet to\n",
      "[nltk_data]     C:\\Users\\acamb\\AppData\\Roaming\\nltk_data...\n",
      "[nltk_data]   Package wordnet is already up-to-date!\n",
      "[nltk_data] Downloading package stopwords to\n",
      "[nltk_data]     C:\\Users\\acamb\\AppData\\Roaming\\nltk_data...\n",
      "[nltk_data]   Package stopwords is already up-to-date!\n",
      "['/job:localhost/replica:0/task:0/device:GPU:0']\n"
     ]
    }
   ],
   "source": [
    "%load_ext autoreload\n",
    "%autoreload 2\n",
    "import numpy as np\n",
    "import pandas as pd\n",
    "import time\n",
    "import matplotlib.pyplot as plt\n",
    "import itertools\n",
    "\n",
    "# SKLEARN\n",
    "import sklearn\n",
    "from sklearn.preprocessing import LabelEncoder, OneHotEncoder\n",
    "from sklearn.model_selection import train_test_split\n",
    "from sklearn.metrics import roc_auc_score, f1_score, confusion_matrix\n",
    "from sklearn.metrics import f1_score\n",
    "\n",
    "# NLP\n",
    "import re\n",
    "import string\n",
    "import html\n",
    "import nltk\n",
    "from nltk.corpus import stopwords\n",
    "from nltk.tokenize import word_tokenize\n",
    "from nltk.tokenize import TweetTokenizer\n",
    "from nltk.stem.wordnet import WordNetLemmatizer\n",
    "nltk.download('wordnet')\n",
    "nltk.download('stopwords')\n",
    "\n",
    "# KERAS / TF\n",
    "import os\n",
    "# os.environ[\"CUDA_DEVICE_ORDER\"] = \"PCI_BUS_ID\"\n",
    "# os.environ['CUDA_VISIBLE_DEVICES'] = '0'\n",
    "import keras.backend as K\n",
    "from keras.preprocessing.text import Tokenizer\n",
    "from keras.preprocessing.sequence import pad_sequences\n",
    "from keras.models import Model, Sequential\n",
    "from keras.layers import Dense, Flatten, LSTM, Conv1D, MaxPooling1D, Dropout, Activation, Bidirectional, concatenate, \\\n",
    "                         CuDNNLSTM, CuDNNGRU, SpatialDropout1D, GlobalAveragePooling1D, GlobalMaxPooling1D, Input, \\\n",
    "                         Flatten, GRU\n",
    "from keras.layers.embeddings import Embedding\n",
    "from keras.callbacks import Callback\n",
    "print(K.tensorflow_backend._get_available_gpus())\n",
    "\n",
    "# Flags\n",
    "balance_dataset = False              # If true, it under-samples the training dataset to get same amount of labels\n",
    "use_pretrained_embeddings = True     # If true, it enables the use of GloVe pre-trained Twitter word-embeddings"
   ]
  },
  {
   "cell_type": "code",
   "execution_count": 2,
   "metadata": {},
   "outputs": [],
   "source": [
    "# K.tensorflow_backend."
   ]
  },
  {
   "cell_type": "markdown",
   "metadata": {},
   "source": [
    "##### ROC AUC & macro-F1 score Printing Callback"
   ]
  },
  {
   "cell_type": "code",
   "execution_count": 5,
   "metadata": {},
   "outputs": [],
   "source": [
    "from keras.callbacks import Callback\n",
    "from sklearn.metrics import roc_auc_score\n",
    "from sklearn.metrics import f1_score\n",
    "\n",
    "class ROC_F1(Callback):\n",
    "    def __init__(self, validation_data=(), training_data=(), interval=1):\n",
    "        super(Callback, self).__init__()\n",
    "        self.interval = interval\n",
    "        self.X_val, self.y_val = validation_data\n",
    "        self.X_train, self.y_train = training_data\n",
    "        self.f1s_train = []\n",
    "        self.f1s_val = []\n",
    "\n",
    "        \n",
    "    def on_epoch_end(self, epoch, logs={}):\n",
    "        lr = self.model.optimizer.lr\n",
    "        if self.model.optimizer.initial_decay > 0:\n",
    "            lr = lr * (1. / (1. + self.model.optimizer.decay * K.cast(self.model.optimizer.iterations, K.dtype(self.model.optimizer.decay))))\n",
    "        if epoch % self.interval == 0:\n",
    "            y_pred_train = np.argmax(self.model.predict(self.X_train, verbose=0), axis=1)\n",
    "            y_pred_val   = np.argmax(self.model.predict(self.X_val, verbose=0), axis=1)\n",
    "            \n",
    "            f1_train = f1_score(self.y_train, y_pred_train, average='macro')\n",
    "            f1_val   = f1_score(self.y_val, y_pred_val, average='macro')\n",
    "            \n",
    "            cm = confusion_matrix(self.y_train, y_pred_train)\n",
    "            cm = cm.astype('float') / cm.sum(axis=1)[:, np.newaxis]\n",
    "            TP_train = np.round(np.diag(cm), decimals=2)\n",
    "            \n",
    "            cm = confusion_matrix(self.y_val, y_pred_val)\n",
    "            cm = cm.astype('float') / cm.sum(axis=1)[:, np.newaxis]\n",
    "            TP_val = np.round(np.diag(cm), decimals=2)\n",
    "            \n",
    "            self.f1s_val.append(f1_val)\n",
    "            self.f1s_train.append(f1_train)\n",
    "            \n",
    "            print(\" - LR: {:0.5f} - train_F1: {:.4f} - val_F1: {:.4f} - train_TP: {} - val_TP: {}\".format(K.eval(lr), f1_train, f1_val, TP_train, TP_val))\n",
    "        if epoch % 1 == 0:\n",
    "            height = 3.5;    width = height*4\n",
    "            plt.figure(figsize=(width,height))\n",
    "            plt.plot(self.f1s_train, label=\"Train F1\")\n",
    "            plt.plot(self.f1s_val, label=\"Validation F1\")\n",
    "            plt.xlim([0,50]); plt.xticks(list(range(50)));   plt.grid(True);   plt.legend()\n",
    "            plt.title(\"F1-score\", fontsize=15)\n",
    "            plt.show()\n",
    "        print(\"\\n\\n\")\n",
    "        "
   ]
  },
  {
   "cell_type": "markdown",
   "metadata": {},
   "source": [
    "##### Tweet Processing Function"
   ]
  },
  {
   "cell_type": "code",
   "execution_count": 6,
   "metadata": {},
   "outputs": [],
   "source": [
    "def process_tweet(tweet, remove_USER_URL=True, remove_punctuation=True, remove_stopwords=True, remove_HTMLentities=True, remove_hashtags=True, appostrophe_handling=True, lemmatize=True, trial=False):\n",
    "    \"\"\"\n",
    "    This function receives tweets and returns clean word-list\n",
    "    \"\"\"\n",
    "    ### Handle USERS and URLS ################################################\n",
    "    if remove_USER_URL:\n",
    "        if trial:\n",
    "            tweet = re.sub(r'@\\w+ ?', '', tweet)\n",
    "            tweet = re.sub(r'http\\S+', '', tweet)\n",
    "        else:\n",
    "            tweet = re.sub(r\"@USER\", \"<>\", tweet)\n",
    "            tweet = re.sub(r\"URL\", \"\", tweet)\n",
    "    else:\n",
    "        if trial:\n",
    "            tweet = re.sub(r'@\\w+ ?', '<usertoken> ', tweet)\n",
    "            tweet = re.sub(r'http\\S+', '<urltoken> ', tweet)\n",
    "        else:\n",
    "            tweet = re.sub(r\"@USER\", \"<usertoken>\", tweet)\n",
    "            tweet = re.sub(r\"URL\", \"<urltoken>\", tweet)\n",
    "    \n",
    "    ### Remove HTML Entities #################################################\n",
    "    if remove_HTMLentities:\n",
    "        tweet = html.unescape(tweet)\n",
    "    \n",
    "    ### REMOVE HASHTAGS? #####################################################\n",
    "    if remove_hashtags:\n",
    "        tweet = re.sub(r'#\\w+ ?', '', tweet)\n",
    "    \n",
    "    ### Convert to lower case: Hi->hi, MAGA -> maga ##########################\n",
    "    tweet = tweet.lower()\n",
    "    \n",
    "    ### Cleaning: non-ASCII filtering, some appostrophes, separation #########\n",
    "    tweet = re.sub(r\"’\", r\"'\", tweet)\n",
    "    tweet = re.sub(r\"[^A-Za-z0-9'^,!.\\/+-=@]\", \" \", tweet)\n",
    "    tweet = re.sub(r\"what's\", \"what is \", tweet)\n",
    "    tweet = re.sub(r\"\\'s\", \" \", tweet)\n",
    "    tweet = re.sub(r\"\\'ve\", \" have \", tweet)\n",
    "    tweet = re.sub(r\"n't\", \" not \", tweet)\n",
    "#     tweet = re.sub(r\"i'm\", \"i am \", tweet)\n",
    "    tweet = re.sub(r\"\\'re\", \" are \", tweet)\n",
    "    tweet = re.sub(r\"\\'d\", \" would \", tweet)\n",
    "    tweet = re.sub(r\"\\'ll\", \" will \", tweet)\n",
    "    tweet = re.sub(r\",\", \" \", tweet)\n",
    "    tweet = re.sub(r\"\\.\", \" \", tweet)\n",
    "    tweet = re.sub(r\"!\", \" ! \", tweet)\n",
    "    tweet = re.sub(r\"\\/\", \" \", tweet)\n",
    "    tweet = re.sub(r\"\\^\", \" ^ \", tweet)\n",
    "    tweet = re.sub(r\"\\+\", \" + \", tweet)\n",
    "    tweet = re.sub(r\"\\-\", \" - \", tweet)\n",
    "    tweet = re.sub(r\"\\=\", \" = \", tweet)\n",
    "    tweet = re.sub(r\"(\\d+)(k)\", r\"\\g<1>000\", tweet)\n",
    "    tweet = re.sub(r\":\", \" : \", tweet)\n",
    "    tweet = re.sub(r\" e g \", \" eg \", tweet)\n",
    "    tweet = re.sub(r\" b g \", \" bg \", tweet)\n",
    "    tweet = re.sub(r\" u s \", \" american \", tweet)\n",
    "    tweet = re.sub(r\"\\0s\", \"0\", tweet)\n",
    "    tweet = re.sub(r\" 9 11 \", \"911\", tweet)\n",
    "    tweet = re.sub(r\"e - mail\", \"email\", tweet)\n",
    "    tweet = re.sub(r\"j k\", \"jk\", tweet)\n",
    "    tweet = re.sub(r\"\\s{2,}\", \" \", tweet)\n",
    "\n",
    "    ### Remove Punctuation ###################################################\n",
    "    if remove_punctuation:\n",
    "        translator = str.maketrans('', '', ''.join(list(set(string.punctuation) - set(\"'\"))))\n",
    "        tweet = tweet.translate(translator)\n",
    "    \n",
    "    # Tokenize sentence for further word-level processing\n",
    "    tokenizer  = TweetTokenizer()\n",
    "    words = tokenizer.tokenize(tweet)\n",
    "    \n",
    "    ### Apostrophe handling:    you're   -> you are  ########################\n",
    "    APPO = {\"aren't\" : \"are not\", \"can't\" : \"cannot\", \"couldn't\" : \"could not\", \"didn't\" : \"did not\", \"doesn't\" : \"does not\", \"don't\" : \"do not\", \"hadn't\" : \"had not\", \"hasn't\" : \"has not\", \"haven't\" : \"have not\", \"he'd\" : \"he would\", \"he'll\" : \"he will\", \"he's\" : \"he is\", \"i'd\" : \"I would\", \"i'd\" : \"I had\", \"i'll\" : \"I will\", \"i'm\" : \"I am\", \"isn't\" : \"is not\", \"it's\" : \"it is\", \"it'll\":\"it will\", \"i've\" : \"I have\", \"let's\" : \"let us\", \"mightn't\" : \"might not\", \"mustn't\" : \"must not\", \"shan't\" : \"shall not\", \"she'd\" : \"she would\", \"she'll\" : \"she will\", \"she's\" : \"she is\", \"shouldn't\" : \"should not\", \"that's\" : \"that is\", \"there's\" : \"there is\", \"they'd\" : \"they would\", \"they'll\" : \"they will\", \"they're\" : \"they are\", \"they've\" : \"they have\", \"we'd\" : \"we would\", \"we're\" : \"we are\", \"weren't\" : \"were not\", \"we've\" : \"we have\", \"what'll\" : \"what will\", \"what're\" : \"what are\", \"what's\" : \"what is\", \"what've\" : \"what have\", \"where's\" : \"where is\", \"who'd\" : \"who would\", \"who'll\" : \"who will\", \"who're\" : \"who are\", \"who's\" : \"who is\", \"who've\" : \"who have\", \"won't\" : \"will not\", \"wouldn't\" : \"would not\", \"you'd\" : \"you would\", \"you'll\" : \"you will\", \"you're\" : \"you are\", \"you've\" : \"you have\", \"'re\": \" are\", \"wasn't\": \"was not\", \"we'll\":\" will\", \"didn't\": \"did not\"}\n",
    "    if appostrophe_handling:\n",
    "        words = [APPO[word] if word in APPO else word for word in words]\n",
    "    \n",
    "    tweet = ' '.join(words)\n",
    "    words = tokenizer.tokenize(tweet)\n",
    "    \n",
    "    ### Convert to lower case: Hi->hi, MAGA -> maga ##########################\n",
    "    \n",
    "    ### Lemmatisation:          drinking -> drink ###########################\n",
    "    if lemmatize:\n",
    "        lemmatizer = WordNetLemmatizer()\n",
    "        words = [lemmatizer.lemmatize(word, \"v\") for word in words]\n",
    "    \n",
    "    ### Remove stop words:      is, that, the, ... ##########################\n",
    "    if remove_stopwords:\n",
    "        eng_stopwords = set(stopwords.words(\"english\"))\n",
    "        words = [w for w in words if not w in eng_stopwords]\n",
    "        \n",
    "    clean_tweet = \" \".join(words)\n",
    "    clean_tweet = re.sub(\"  \",\" \",clean_tweet)\n",
    "    clean_tweet = clean_tweet.lower()\n",
    "    \n",
    "    return clean_tweet"
   ]
  },
  {
   "cell_type": "code",
   "execution_count": 7,
   "metadata": {},
   "outputs": [],
   "source": [
    "from random import shuffle\n",
    "\n",
    "def under_sample(X, y):\n",
    "    idx_0 = np.where(y==0)[0].tolist()\n",
    "    idx_1 = np.where(y==1)[0].tolist()\n",
    "\n",
    "    N = np.min([len(idx_0), len(idx_1)])\n",
    "    idx = idx_0[:N] + idx_1[:N]\n",
    "    shuffle(idx)\n",
    "    \n",
    "    X = X[idx].reshape(-1)\n",
    "    y = y[idx].reshape(-1,1)\n",
    "    \n",
    "    return X, y"
   ]
  },
  {
   "cell_type": "markdown",
   "metadata": {},
   "source": [
    "## 1. LOAD DATA AND PRE-PROCESS"
   ]
  },
  {
   "cell_type": "code",
   "execution_count": 8,
   "metadata": {},
   "outputs": [
    {
     "data": {
      "text/plain": [
       "array(['IND', 'OTH', 'GRP'], dtype=object)"
      ]
     },
     "metadata": {},
     "output_type": "display_data"
    },
    {
     "data": {
      "text/plain": [
       "array(['IND', 'GRP', 'OTH'], dtype=object)"
      ]
     },
     "metadata": {},
     "output_type": "display_data"
    }
   ],
   "source": [
    "params = dict(remove_USER_URL=True,\n",
    "              remove_stopwords=False,\n",
    "              remove_HTMLentities=True,\n",
    "              remove_punctuation=True,\n",
    "              appostrophe_handling=True,\n",
    "              lemmatize=True)\n",
    "\n",
    "df_c = pd.read_csv('../OffensEval_data/training/offenseval-training-v1.tsv',sep='\\t')\n",
    "# whole_corpus_clean = df_c['tweet'].apply(lambda x: process_tweet(x, **params, trial=False)).values\n",
    "df_c = df_c[pd.notnull(df_c['subtask_c'])].reset_index(drop=True)\n",
    "display(df_c['subtask_c'].unique())\n",
    "\n",
    "df_c_trial = pd.read_csv('../OffensEval_data/trial/offenseval-trial.txt', sep='\\t')\n",
    "df_c_trial = df_c_trial[pd.notnull(df_c_trial['subtask_c'])].reset_index(drop=True)\n",
    "df_c_trial = df_c_trial[df_c_trial['subtask_c'] != 'ORG']\n",
    "display(df_c_trial['subtask_c'].unique())"
   ]
  },
  {
   "cell_type": "code",
   "execution_count": 9,
   "metadata": {},
   "outputs": [
    {
     "name": "stdout",
     "output_type": "stream",
     "text": [
      "[0.53676776 1.20297952 3.27088608]\n",
      "EXAMPLES OF PROCESSED TWEETS [train/trial]\n",
      "_________________________________________________________________________________________________________\n",
      "Un-processed:  @USER @USER Go home you’re drunk!!! @USER #MAGA #Trump2020 👊🇺🇸👊 URL\n",
      "Processed:     go home you be drink\n",
      "\n",
      "Un-processed:  @USER Liberals are all Kookoo !!!\n",
      "Processed:     liberals be all kookoo\n",
      "\n",
      "Un-processed:  @USER was literally just talking about this lol all mass shootings like that have been set ups. it’s propaganda used to divide us on major issues like gun control and terrorism\n",
      "Processed:     be literally just talk about this lol all mass shoot like that have be set up it propaganda use to divide us on major issue like gun control and terrorism\n",
      "\n",
      "Un-processed:  @USER Canada doesn’t need another CUCK! We already have enough #LooneyLeft #Liberals f**king up our great country! #Qproofs #TrudeauMustGo\n",
      "Processed:     canada do not need another cuck we already have enough f king up our great country\n",
      "\n",
      "_________________________________________________________________________________________________________\n",
      "Un-processed:  @hughhewitt @mishacollins What the hell...? What does that tweet have to do with gun control...? Maybe try to make your tweet have some sort of sense...\n",
      "Processed:     what the hell what do that tweet have to do with gun control maybe try to make your tweet have some sort of sense\n",
      "\n",
      "Un-processed:  Guess ima have to beat some lil kids asses today cause lil Becky not about to but my kid and get away with it https://t.co/RpRmn2tbAn\n",
      "Processed:     guess ima have to beat some lil kid asses today cause lil becky not about to but my kid and get away with it\n",
      "\n",
      "Un-processed:  @BreitbartNews Little Marco Trump will get things done\n",
      "Processed:     little marco trump will get things do\n",
      "\n",
      "Un-processed:  @realDonaldTrump Everyone already know what you are trying to do with the fake news and witch hunt shit um....it’s not working\n",
      "Processed:     everyone already know what you be try to do with the fake news and witch hunt shit um it not work\n",
      "\n"
     ]
    }
   ],
   "source": [
    "params = dict(remove_USER_URL=True,\n",
    "              remove_stopwords=False,\n",
    "              remove_HTMLentities=True,\n",
    "              remove_punctuation=True,\n",
    "              appostrophe_handling=True,\n",
    "              lemmatize=True)\n",
    "\n",
    "df_c = pd.read_csv('../OffensEval_data/training/offenseval-training-v1.tsv',sep='\\t')\n",
    "whole_corpus_clean = df_c['tweet'].apply(lambda x: process_tweet(x, **params, trial=False)).values\n",
    "df_c = df_c[pd.notnull(df_c['subtask_c'])].reset_index(drop=True)\n",
    "\n",
    "df_c_trial = pd.read_csv('../OffensEval_data/trial/offenseval-trial.txt', sep='\\t')\n",
    "df_c_trial = df_c_trial[pd.notnull(df_c_trial['subtask_c'])].reset_index(drop=True)\n",
    "df_c_trial = df_c_trial[df_c_trial['subtask_c'] != 'ORG']\n",
    "\n",
    "X = df_c['tweet'].apply(lambda x: process_tweet(x, **params, trial=False)).values\n",
    "y = df_c['subtask_c'].replace({'IND': 0, 'GRP': 1, 'OTH': 2}).values.reshape(-1,1)\n",
    "ohe = OneHotEncoder(categories='auto')\n",
    "Y = ohe.fit_transform(y).toarray()\n",
    "\n",
    "X_trial = df_c_trial['tweet'].apply(lambda x: process_tweet(x, **params, trial=True)).values;\n",
    "y_trial = df_c_trial['subtask_c'].replace({'IND': 0, 'GRP': 1, 'OTH': 2}).values.reshape(-1,1)\n",
    "ohe = OneHotEncoder(categories='auto')\n",
    "Y_trial = ohe.fit_transform(y_trial).toarray()\n",
    "\n",
    "class_weights = sklearn.utils.class_weight.compute_class_weight('balanced', np.unique(y), y.reshape(-1))\n",
    "print(class_weights)\n",
    "if balance_dataset:\n",
    "    X, y = under_sample(X, y)\n",
    "\n",
    "\n",
    "print(\"EXAMPLES OF PROCESSED TWEETS [train/trial]\")\n",
    "print(\"_________________________________________________________________________________________________________\")\n",
    "for id in range(4):\n",
    "    print(\"Un-processed:  \" + df_c['tweet'][id])\n",
    "    print(\"Processed:     \" + X[id])\n",
    "    print(\"\")\n",
    "print(\"_________________________________________________________________________________________________________\")\n",
    "for id in range(4):\n",
    "    print(\"Un-processed:  \" + df_c_trial['tweet'][id])\n",
    "    print(\"Processed:     \" + X_trial[id])\n",
    "    print(\"\")"
   ]
  },
  {
   "cell_type": "code",
   "execution_count": 8,
   "metadata": {
    "scrolled": false
   },
   "outputs": [],
   "source": [
    "# params = dict(remove_USER_URL=True,\n",
    "#               remove_stopwords=False,\n",
    "#               remove_HTMLentities=True,\n",
    "#               remove_punctuation=True,\n",
    "#               appostrophe_handling=True,\n",
    "#               lemmatize=True)\n",
    "\n",
    "# # TRAINING SET ----------------------------------------------------------------------------------------------------------\n",
    "# tweets_train = train_df['tweet'];\n",
    "# clean_tweets_train = tweets_train.apply(lambda x: process_tweet(x, **params, trial=False)).values\n",
    "\n",
    "# df_a = pd.read_csv('../OffensEval_data/training/offenseval-training-v1.tsv',sep='\\t')\n",
    "# df_b = pd.read_csv('../OffensEval_data/training/offenseval-training-v1.tsv',sep='\\t')\n",
    "# df_c = pd.read_csv('../OffensEval_data/training/offenseval-training-v1.tsv',sep='\\t')\n",
    "\n",
    "# df_a['subtask_a'] = df_a['subtask_a'].replace({'OFF': 1, 'NOT': 0})\n",
    "\n",
    "# # Binarize labels ('OFF -> 1', 'NOT' -> 0) and print stats\n",
    "# y_a = df_a['subtask_a'].replace({'OFF': 1, 'NOT': 0}).values;\n",
    "# y_b = train_df['subtask_a'].replace({'OFF': 1, 'NOT': 0}).values;\n",
    "# y_c = train_df['subtask_a'].replace({'OFF': 1, 'NOT': 0}).values;\n",
    "\n",
    "# # Assign weights to each class to deal with imbalance of dataset (penalizes the loss function based on sample support)\n",
    "# class_weights = sklearn.utils.class_weight.compute_class_weight('balanced', np.unique(y), y.reshape(-1))\n",
    "\n",
    "# # BALANCE (Under-sample dataset)\n",
    "# if balance_dataset:\n",
    "#     tweets_train()\n",
    "# # -----------------------------------------------------------------------------------------------------------------------\n",
    "\n",
    "# # TRIAL (VAL) SET -------------------------------------------------------------------------------------------------------\n",
    "# trial_df = pd.read_csv('../OffensEval_data/trial/offenseval-trial.txt', sep='\\t')\n",
    "\n",
    "# tweets_trial = trial_df['tweet'];\n",
    "# labels_trial = trial_df['subtask_a'];\n",
    "\n",
    "# # Process all tweets\n",
    "# clean_tweets_trial = tweets_trial.apply(lambda x: process_tweet(x, **params, trial=True)).values\n",
    "\n",
    "# # Binarize labels ('OFF -> 1', 'NOT' -> 0) and print stats\n",
    "# y_trial = labels_trial.replace({'OFF': 1, 'NOT': 0}).values\n",
    "# labs, counts = np.unique(y_trial, return_counts=True)\n",
    "# print(\"\\n\\nTrial Set:\\nLabel   Count   Percentage\")\n",
    "# for label, count in zip(labs, counts):\n",
    "#     print(\"{}         {}    {:0.2f}%\".format(label, count, count/len(y_trial)*100))\n",
    "# #------------------------------------------------------------------------------------------------------------------------\n",
    "\n",
    "# print(\"\\n\\nEXAMPLES OF PROCESSED TWEETS [train/trial]\"\n",
    "# print(\"_________________________________________________________________________________________________________\")\n",
    "# for id in range(4):\n",
    "#     print(\"Un-processed:  \" + tweets_train[id])\n",
    "#     print(\"Processed:     \" + clean_tweets_train[id])\n",
    "#     print(\"\")\n",
    "# print(\"_________________________________________________________________________________________________________\")\n",
    "# for id in range(4):\n",
    "#     print(\"Un-processed:  \" + tweets_trial[id])\n",
    "#     print(\"Processed:     \" + clean_tweets_trial[id])\n",
    "#     print(\"\")"
   ]
  },
  {
   "cell_type": "markdown",
   "metadata": {},
   "source": [
    "#### Build Vocabulary by Hand (Not of any actual use, only to print size and unique word count)"
   ]
  },
  {
   "cell_type": "code",
   "execution_count": 9,
   "metadata": {},
   "outputs": [
    {
     "name": "stdout",
     "output_type": "stream",
     "text": [
      "This corpus contains 85364 tokens, of which 7592 are unique. I.e. avg of 22.02 words per tweet.\n"
     ]
    }
   ],
   "source": [
    "def get_tokenized_corpus(corpus):\n",
    "    tokenized_corpus = []\n",
    "    for sentence in corpus:\n",
    "        tokenized_sentence = []\n",
    "        for token in sentence.split(' '): \n",
    "            tokenized_sentence.append(token)\n",
    "        tokenized_corpus.append(tokenized_sentence)\n",
    "    return tokenized_corpus\n",
    "\n",
    "\n",
    "tokenized_corpus = get_tokenized_corpus(X)\n",
    "tokenized_corpus\n",
    "\n",
    "vocabulary = []\n",
    "token_count = 0\n",
    "for sentence in tokenized_corpus:\n",
    "    for token in sentence:\n",
    "        token_count += 1\n",
    "        if token not in vocabulary:\n",
    "            vocabulary.append(token)\n",
    "            \n",
    "print(\"This corpus contains {} tokens, of which {} are unique. I.e. avg of {:0.2f} words per tweet.\".format(token_count, len(vocabulary), token_count/X.shape[0]))"
   ]
  },
  {
   "cell_type": "markdown",
   "metadata": {},
   "source": [
    "## Prepare Data for Model\n",
    "#### Tokenize tweets  |  Turn into Index sequences  |  Pad sequences to max_length  |  (optional) Use word embeddings"
   ]
  },
  {
   "cell_type": "markdown",
   "metadata": {},
   "source": [
    "##### GloVe Twitter word-embedding how to:\n",
    "1. Read embeddings and build a [word -> vector] dictionary\n",
    "2. Use tokenizer [word -> index] dictionary to iterate through all words in vocab\n",
    "3. For each word in vocab (iterate over [word -> index] tokenizer dictionary): \n",
    "    - Attempt to get word's embedding vector from GloVe Twitter [word -> vector]\n",
    "    - If word is in embedding's vocabulary: add the vector to the embedding matrix at the right index\n",
    "    - If not, do not do anything (respective vector will be [0, 0, 0, ..., 0]\n",
    "\n",
    "Embedding matrix will be of size (nb_words + 1, embedding_dim), this will be loaded into the embeddings layer later"
   ]
  },
  {
   "cell_type": "code",
   "execution_count": 10,
   "metadata": {
    "scrolled": false
   },
   "outputs": [
    {
     "name": "stdout",
     "output_type": "stream",
     "text": [
      "Num of unique tokens in tokenizer: 14591\n",
      "Building embedding index [word->vector] - Done! (44.14s)\n",
      "Building embedding matrix (14592, 100) - Done!\n",
      "This vocabulary has 14591 unique tokens of which 12740 are in the embeddings and 1851 are not\n"
     ]
    }
   ],
   "source": [
    "####################################################################################################\n",
    "##   BUILD VOCABULARY FROM CORPUS   ################################################################\n",
    "####################################################################################################\n",
    "max_seq_len    = 55\n",
    "max_features   = 30000\n",
    "\n",
    "# Tokenize all tweets\n",
    "tokenizer = Tokenizer(lower=True, filters='', split=' ')\n",
    "X_all = list(whole_corpus_clean) + list(X_trial)\n",
    "tokenizer.fit_on_texts(X_all)\n",
    "print(f\"Num of unique tokens in tokenizer: {len(tokenizer.word_index)}\")\n",
    "\n",
    "# Get sequences for each dataset\n",
    "sequences       = tokenizer.texts_to_sequences(X)\n",
    "sequences_trial = tokenizer.texts_to_sequences(X_trial)\n",
    "\n",
    "# Pad sequences\n",
    "X       = pad_sequences(sequences, maxlen = max_seq_len)\n",
    "X_trial = pad_sequences(sequences_trial, maxlen = max_seq_len)\n",
    "\n",
    "# Reshape labels\n",
    "y       = y.reshape(-1,1)\n",
    "y_trial = y_trial.reshape(-1,1)\n",
    "\n",
    "####################################################################################################\n",
    "##   GloVe EMBEDDINGS     ##########################################################################\n",
    "####################################################################################################\n",
    "if use_pretrained_embeddings:\n",
    "    # Download embeddings from https://nlp.stanford.edu/projects/glove/\n",
    "    #                          https://nlp.stanford.edu/data/glove.twitter.27B.zip\n",
    "    embedding_path = \"glove.twitter.27B.100d.txt\"\n",
    "    embed_size     = 100\n",
    "    \n",
    "    def get_coefs(word,*arr):\n",
    "        return word, np.asarray(arr, dtype='float32')\n",
    "\n",
    "    # Construct embedding table (word -> vector)\n",
    "    print(\"Building embedding index [word->vector]\", end=\"\")\n",
    "    t0 = time.time()\n",
    "    embedding_index = dict(get_coefs(*o.strip().split(\" \")) for o in open(embedding_path, encoding=\"utf8\"))\n",
    "    print(\" - Done! ({:0.2f}s)\".format(time.time()-t0))\n",
    "\n",
    "    # Build Embedding Matrix\n",
    "\n",
    "    words_in_glove = 0\n",
    "    words_not_in_glove = 0\n",
    "    word_index = tokenizer.word_index\n",
    "    nb_words = min(max_features, len(word_index))\n",
    "    embedding_matrix = np.zeros((nb_words + 1, embed_size))\n",
    "    print(f\"Building embedding matrix {embedding_matrix.shape}\", end=\"\")\n",
    "    for word, i in word_index.items():\n",
    "        if i >= max_features: continue\n",
    "        embedding_vector = embedding_index.get(word)\n",
    "        if embedding_vector is not None:\n",
    "            embedding_matrix[i] = embedding_vector\n",
    "            words_in_glove += 1\n",
    "        else:\n",
    "            words_not_in_glove += 1\n",
    "    print(\" - Done!\")\n",
    "    print(\"This vocabulary has {} unique tokens of which {} are in the embeddings and {} are not\".format(len(word_index), words_in_glove, words_not_in_glove))"
   ]
  },
  {
   "cell_type": "code",
   "execution_count": 11,
   "metadata": {
    "scrolled": false
   },
   "outputs": [
    {
     "name": "stdout",
     "output_type": "stream",
     "text": [
      "Mean sentence length: 22.0 words\n",
      "MAX  sentence length: 62 words\n"
     ]
    },
    {
     "data": {
      "image/png": "[encoded data removed]",
      "text/plain": [
       "<Figure size 1080x360 with 1 Axes>"
      ]
     },
     "metadata": {
      "needs_background": "light"
     },
     "output_type": "display_data"
    }
   ],
   "source": [
    "sentence_lengths = [len(tokens) for tokens in sequences]\n",
    "print(\"Mean sentence length: {:0.1f} words\".format(np.mean(sentence_lengths)))\n",
    "print(\"MAX  sentence length: {} words\".format(np.max(sentence_lengths)))\n",
    "\n",
    "fig = plt.figure(figsize=(15, 5)) \n",
    "plt.xlabel('Tweet length', fontsize=15)\n",
    "plt.ylabel('Number of Tweets', fontsize=15)\n",
    "plt.hist(sentence_lengths, bins=list(range(70)))\n",
    "plt.show()"
   ]
  },
  {
   "cell_type": "markdown",
   "metadata": {},
   "source": [
    "# 2. BUILD MODEL & TRAIN"
   ]
  },
  {
   "cell_type": "markdown",
   "metadata": {},
   "source": [
    "### Define RNN Models"
   ]
  },
  {
   "cell_type": "code",
   "execution_count": 12,
   "metadata": {},
   "outputs": [],
   "source": [
    "def build_Bi_GRU_LSTM_CN_model(lr=0.001, lr_decay=0.01, recurrent_units=0, dropout=0.0):\n",
    "    # Model architecture\n",
    "    inputs = Input(shape = (max_seq_len,), name=\"Input\")\n",
    "    \n",
    "    emb = Embedding(nb_words+1, embed_size, trainable=train_embeddings, name=\"WordEmbeddings\")(inputs)\n",
    "    emb = SpatialDropout1D(dropout)(emb)\n",
    "\n",
    "    gru_out  = Bidirectional(CuDNNGRU(recurrent_units, return_sequences = True), name=\"Bi_GRU\")(emb)\n",
    "    gru_out  = Conv1D(32, 4, activation='relu', padding='valid', kernel_initializer='he_uniform')(gru_out)\n",
    "\n",
    "    lstm_out = Bidirectional(CuDNNLSTM(recurrent_units, return_sequences = True), name=\"Bi_LSTM\")(emb)\n",
    "    lstm_out = Conv1D(32, 4, activation='relu', padding='valid', kernel_initializer='he_uniform')(lstm_out)\n",
    "\n",
    "    avg_pool1 = GlobalAveragePooling1D(name=\"GlobalAVGPooling_GRU\")(gru_out)\n",
    "    max_pool1 = GlobalMaxPooling1D(name=\"GlobalMAXPooling_GRU\")(gru_out)\n",
    "\n",
    "    avg_pool2 = GlobalAveragePooling1D(name=\"GlobalAVGPooling_LSTM\")(lstm_out)\n",
    "    max_pool2 = GlobalMaxPooling1D(name=\"GlobalMAXPooling_LSTM\")(lstm_out) \n",
    "\n",
    "    x = concatenate([avg_pool1, max_pool1, avg_pool2, max_pool2])\n",
    "\n",
    "    outputs = Dense(3, activation='softmax', name=\"Output\")(x)\n",
    "    \n",
    "    model = Model(inputs,outputs)\n",
    "    \n",
    "    return model, 1\n",
    "\n",
    "def build_LSTM():\n",
    "    model = Sequential()\n",
    "    model.add(Embedding(nb_words+1, embed_size, input_length=max_seq_len, trainable=train_embeddings, name=\"Embeddings\"))\n",
    "    model.add(SpatialDropout1D(DROPOUT))\n",
    "    model.add(Bidirectional(CuDNNLSTM(RECURRENT_UNITS)))\n",
    "    model.add(Dense(3, activation='softmax'))\n",
    "    \n",
    "    return model, 0\n",
    "\n",
    "def build_CNN_LSTM():\n",
    "    EMBEDDING_DIM = embed_size\n",
    "    model = Sequential()\n",
    "    model.add(Embedding(nb_words+1, EMBEDDING_DIM, input_length=max_seq_len, trainable=train_embeddings, name=\"Embeddings\"))\n",
    "    model.add(SpatialDropout1D(DROPOUT))\n",
    "    model.add(Conv1D(64, 4, activation='relu', kernel_initializer='he_uniform'))\n",
    "    model.add(MaxPooling1D(pool_size=4))\n",
    "    model.add(Bidirectional(LSTM(EMBEDDING_DIM, dropout=LSTM_DROPOUT, recurrent_dropout=LSTM_DROPOUT)))\n",
    "    model.add(Dense(3, activation='softmax'))\n",
    "    \n",
    "    return model, 0\n",
    "\n",
    "def build_LSTM_CNN():\n",
    "    EMBEDDING_DIM = embed_size\n",
    "    model = Sequential()\n",
    "    model.add(Embedding(nb_words+1, EMBEDDING_DIM, input_length=max_seq_len, trainable=train_embeddings, name=\"Embeddings\"))\n",
    "#     model.add(SpatialDropout1D(DROPOUT))\n",
    "    model.add(Dropout(DROPOUT))\n",
    "    model.add(Bidirectional(CuDNNLSTM(EMBEDDING_DIM, return_sequences=True)))\n",
    "#     model.add(Bidirectional(LSTM(EMBEDDING_DIM, return_sequences=True, dropout=LSTM_DROPOUT, recurrent_dropout=LSTM_DROPOUT)))\n",
    "    model.add(Conv1D(64, kernel_size=2, activation='relu', padding='valid', kernel_initializer='he_uniform'))\n",
    "    model.add(Flatten())\n",
    "    model.add(Dense(3, activation='softmax'))\n",
    "\n",
    "    return model, 0"
   ]
  },
  {
   "cell_type": "markdown",
   "metadata": {},
   "source": [
    "### Build and Train"
   ]
  },
  {
   "cell_type": "code",
   "execution_count": 58,
   "metadata": {
    "scrolled": false
   },
   "outputs": [
    {
     "name": "stdout",
     "output_type": "stream",
     "text": [
      "[0.0004, 0.0, 30, 32, 100, 0.5, 0.0]\n",
      "_________________________________________________________________\n",
      "Layer (type)                 Output Shape              Param #   \n",
      "=================================================================\n",
      "Embeddings (Embedding)       (None, 55, 100)           1459200   \n",
      "_________________________________________________________________\n",
      "spatial_dropout1d_28 (Spatia (None, 55, 100)           0         \n",
      "_________________________________________________________________\n",
      "bidirectional_28 (Bidirectio (None, 60)                31680     \n",
      "_________________________________________________________________\n",
      "dense_28 (Dense)             (None, 3)                 183       \n",
      "=================================================================\n",
      "Total params: 1,491,063\n",
      "Trainable params: 31,863\n",
      "Non-trainable params: 1,459,200\n",
      "_________________________________________________________________\n",
      "Class weights (to address dataset imbalance)\n"
     ]
    },
    {
     "data": {
      "text/plain": [
       "{0: 0.5367965367965368, 1: 1.2029491656965463, 2: 3.270042194092827}"
      ]
     },
     "metadata": {},
     "output_type": "display_data"
    },
    {
     "name": "stdout",
     "output_type": "stream",
     "text": [
      "Train on 3876 samples, validate on 36 samples\n",
      "Epoch 1/30\n",
      "3876/3876 [==============================] - 4s 1ms/step - loss: 0.6292 - acc: 0.6689 - val_loss: 0.6193 - val_acc: 0.6667\n",
      "\n",
      "Epoch 00001: val_loss improved from inf to 0.61929, saving model to weights-improvement-01-0.66667-0.61929.hdf5\n",
      " - LR: 0.00040 - train_F1: 0.4457 - val_F1: 0.2735 - train_TP: [0.66 0.4  0.33] - val_TP: [0.57 0.   0.5 ]\n"
     ]
    },
    {
     "data": {
      "image/png": "[encoded data removed]",
      "text/plain": [
       "<Figure size 1008x252 with 1 Axes>"
      ]
     },
     "metadata": {
      "needs_background": "light"
     },
     "output_type": "display_data"
    },
    {
     "name": "stdout",
     "output_type": "stream",
     "text": [
      "\n",
      "\n",
      "\n",
      "Epoch 2/30\n",
      "3876/3876 [==============================] - 2s 485us/step - loss: 0.6148 - acc: 0.6809 - val_loss: 0.6141 - val_acc: 0.6667\n",
      "\n",
      "Epoch 00002: val_loss improved from 0.61929 to 0.61407, saving model to weights-improvement-02-0.66667-0.61407.hdf5\n",
      " - LR: 0.00040 - train_F1: 0.4810 - val_F1: 0.3898 - train_TP: [0.65 0.64 0.2 ] - val_TP: [0.63 0.25 0.5 ]\n"
     ]
    },
    {
     "data": {
      "image/png": "[encoded data removed]",
      "text/plain": [
       "<Figure size 1008x252 with 1 Axes>"
      ]
     },
     "metadata": {
      "needs_background": "light"
     },
     "output_type": "display_data"
    },
    {
     "name": "stdout",
     "output_type": "stream",
     "text": [
      "\n",
      "\n",
      "\n",
      "Epoch 3/30\n",
      "3876/3876 [==============================] - 2s 512us/step - loss: 0.5970 - acc: 0.7195 - val_loss: 0.5425 - val_acc: 0.7778\n",
      "\n",
      "Epoch 00003: val_loss improved from 0.61407 to 0.54255, saving model to weights-improvement-03-0.77778-0.54255.hdf5\n",
      " - LR: 0.00040 - train_F1: 0.4788 - val_F1: 0.5244 - train_TP: [0.73 0.71 0.06] - val_TP: [0.7  0.25 0.5 ]\n"
     ]
    },
    {
     "data": {
      "image/png": "[encoded data removed]",
      "text/plain": [
       "<Figure size 1008x252 with 1 Axes>"
      ]
     },
     "metadata": {
      "needs_background": "light"
     },
     "output_type": "display_data"
    },
    {
     "name": "stdout",
     "output_type": "stream",
     "text": [
      "\n",
      "\n",
      "\n",
      "Epoch 4/30\n",
      "3876/3876 [==============================] - 2s 521us/step - loss: 0.5805 - acc: 0.7488 - val_loss: 0.4653 - val_acc: 0.8333\n",
      "\n",
      "Epoch 00004: val_loss improved from 0.54255 to 0.46533, saving model to weights-improvement-04-0.83333-0.46533.hdf5\n",
      " - LR: 0.00040 - train_F1: 0.5177 - val_F1: 0.4992 - train_TP: [0.79 0.64 0.14] - val_TP: [0.83 0.25 0.5 ]\n"
     ]
    },
    {
     "data": {
      "image/png": "[encoded data removed]",
      "text/plain": [
       "<Figure size 1008x252 with 1 Axes>"
      ]
     },
     "metadata": {
      "needs_background": "light"
     },
     "output_type": "display_data"
    },
    {
     "name": "stdout",
     "output_type": "stream",
     "text": [
      "\n",
      "\n",
      "\n",
      "Epoch 5/30\n",
      "3876/3876 [==============================] - 2s 498us/step - loss: 0.5746 - acc: 0.7542 - val_loss: 0.4500 - val_acc: 0.8241\n",
      "\n",
      "Epoch 00005: val_loss improved from 0.46533 to 0.45001, saving model to weights-improvement-05-0.82407-0.45001.hdf5\n",
      " - LR: 0.00040 - train_F1: 0.5370 - val_F1: 0.5175 - train_TP: [0.78 0.67 0.17] - val_TP: [0.87 0.25 0.5 ]\n"
     ]
    },
    {
     "data": {
      "image/png": "[encoded data removed]",
      "text/plain": [
       "<Figure size 1008x252 with 1 Axes>"
      ]
     },
     "metadata": {
      "needs_background": "light"
     },
     "output_type": "display_data"
    },
    {
     "name": "stdout",
     "output_type": "stream",
     "text": [
      "\n",
      "\n",
      "\n",
      "Epoch 6/30\n",
      "3876/3876 [==============================] - 2s 499us/step - loss: 0.5699 - acc: 0.7565 - val_loss: 0.4639 - val_acc: 0.8056\n",
      "\n",
      "Epoch 00006: val_loss did not improve from 0.45001\n",
      " - LR: 0.00040 - train_F1: 0.5502 - val_F1: 0.4818 - train_TP: [0.75 0.69 0.24] - val_TP: [0.83 0.25 0.5 ]\n"
     ]
    },
    {
     "data": {
      "image/png": "[encoded data removed]",
      "text/plain": [
       "<Figure size 1008x252 with 1 Axes>"
      ]
     },
     "metadata": {
      "needs_background": "light"
     },
     "output_type": "display_data"
    },
    {
     "name": "stdout",
     "output_type": "stream",
     "text": [
      "\n",
      "\n",
      "\n",
      "Epoch 7/30\n",
      "3876/3876 [==============================] - 2s 481us/step - loss: 0.5646 - acc: 0.7620 - val_loss: 0.5210 - val_acc: 0.7870\n",
      "\n",
      "Epoch 00007: val_loss did not improve from 0.45001\n",
      " - LR: 0.00040 - train_F1: 0.5385 - val_F1: 0.4990 - train_TP: [0.69 0.8  0.19] - val_TP: [0.73 0.5  0.5 ]\n"
     ]
    },
    {
     "data": {
      "image/png": "[encoded data removed]",
      "text/plain": [
       "<Figure size 1008x252 with 1 Axes>"
      ]
     },
     "metadata": {
      "needs_background": "light"
     },
     "output_type": "display_data"
    },
    {
     "name": "stdout",
     "output_type": "stream",
     "text": [
      "\n",
      "\n",
      "\n",
      "Epoch 8/30\n",
      "3876/3876 [==============================] - 2s 501us/step - loss: 0.5655 - acc: 0.7571 - val_loss: 0.4602 - val_acc: 0.7963\n",
      "\n",
      "Epoch 00008: val_loss did not improve from 0.45001\n",
      " - LR: 0.00040 - train_F1: 0.5534 - val_F1: 0.4818 - train_TP: [0.75 0.76 0.19] - val_TP: [0.83 0.25 0.5 ]\n"
     ]
    },
    {
     "data": {
      "image/png": "[encoded data removed]",
      "text/plain": [
       "<Figure size 1008x252 with 1 Axes>"
      ]
     },
     "metadata": {
      "needs_background": "light"
     },
     "output_type": "display_data"
    },
    {
     "name": "stdout",
     "output_type": "stream",
     "text": [
      "\n",
      "\n",
      "\n",
      "Epoch 9/30\n",
      "3876/3876 [==============================] - 4s 972us/step - loss: 0.5560 - acc: 0.7695 - val_loss: 0.4974 - val_acc: 0.7963\n",
      "\n",
      "Epoch 00009: val_loss did not improve from 0.45001\n",
      " - LR: 0.00040 - train_F1: 0.5655 - val_F1: 0.4405 - train_TP: [0.71 0.74 0.32] - val_TP: [0.77 0.25 0.5 ]\n"
     ]
    },
    {
     "data": {
      "image/png": "[encoded data removed]",
      "text/plain": [
       "<Figure size 1008x252 with 1 Axes>"
      ]
     },
     "metadata": {
      "needs_background": "light"
     },
     "output_type": "display_data"
    },
    {
     "name": "stdout",
     "output_type": "stream",
     "text": [
      "\n",
      "\n",
      "\n",
      "Epoch 10/30\n",
      "2976/3876 [======================>.......] - ETA: 1s - loss: 0.5523 - acc: 0.7593"
     ]
    },
    {
     "ename": "KeyboardInterrupt",
     "evalue": "",
     "output_type": "error",
     "traceback": [
      "\u001b[1;31m---------------------------------------------------------------------------\u001b[0m",
      "\u001b[1;31mKeyboardInterrupt\u001b[0m                         Traceback (most recent call last)",
      "\u001b[1;32m<ipython-input-58-006c53a1347f>\u001b[0m in \u001b[0;36m<module>\u001b[1;34m\u001b[0m\n\u001b[0;32m     53\u001b[0m \u001b[1;33m\u001b[0m\u001b[0m\n\u001b[0;32m     54\u001b[0m train_history = model.fit(X_train, Y_train, validation_data=(X_val, Y_val), class_weight=weights_dict, batch_size=BATCH_SIZE, epochs=EPOCHS,\n\u001b[1;32m---> 55\u001b[1;33m                           verbose=1, callbacks=[earlystop, checkpoint, auc_f1])\n\u001b[0m\u001b[0;32m     56\u001b[0m \u001b[1;31m# # #---------------------------------------------------------------------------------------------------------------\u001b[0m\u001b[1;33m\u001b[0m\u001b[1;33m\u001b[0m\u001b[1;33m\u001b[0m\u001b[0m\n",
      "\u001b[1;32m~\\AppData\\Local\\Continuum\\anaconda3\\envs\\fresh36\\lib\\site-packages\\keras\\engine\\training.py\u001b[0m in \u001b[0;36mfit\u001b[1;34m(self, x, y, batch_size, epochs, verbose, callbacks, validation_split, validation_data, shuffle, class_weight, sample_weight, initial_epoch, steps_per_epoch, validation_steps, **kwargs)\u001b[0m\n\u001b[0;32m   1037\u001b[0m                                         \u001b[0minitial_epoch\u001b[0m\u001b[1;33m=\u001b[0m\u001b[0minitial_epoch\u001b[0m\u001b[1;33m,\u001b[0m\u001b[1;33m\u001b[0m\u001b[1;33m\u001b[0m\u001b[0m\n\u001b[0;32m   1038\u001b[0m                                         \u001b[0msteps_per_epoch\u001b[0m\u001b[1;33m=\u001b[0m\u001b[0msteps_per_epoch\u001b[0m\u001b[1;33m,\u001b[0m\u001b[1;33m\u001b[0m\u001b[1;33m\u001b[0m\u001b[0m\n\u001b[1;32m-> 1039\u001b[1;33m                                         validation_steps=validation_steps)\n\u001b[0m\u001b[0;32m   1040\u001b[0m \u001b[1;33m\u001b[0m\u001b[0m\n\u001b[0;32m   1041\u001b[0m     def evaluate(self, x=None, y=None,\n",
      "\u001b[1;32m~\\AppData\\Local\\Continuum\\anaconda3\\envs\\fresh36\\lib\\site-packages\\keras\\engine\\training_arrays.py\u001b[0m in \u001b[0;36mfit_loop\u001b[1;34m(model, f, ins, out_labels, batch_size, epochs, verbose, callbacks, val_f, val_ins, shuffle, callback_metrics, initial_epoch, steps_per_epoch, validation_steps)\u001b[0m\n\u001b[0;32m    197\u001b[0m                     \u001b[0mins_batch\u001b[0m\u001b[1;33m[\u001b[0m\u001b[0mi\u001b[0m\u001b[1;33m]\u001b[0m \u001b[1;33m=\u001b[0m \u001b[0mins_batch\u001b[0m\u001b[1;33m[\u001b[0m\u001b[0mi\u001b[0m\u001b[1;33m]\u001b[0m\u001b[1;33m.\u001b[0m\u001b[0mtoarray\u001b[0m\u001b[1;33m(\u001b[0m\u001b[1;33m)\u001b[0m\u001b[1;33m\u001b[0m\u001b[1;33m\u001b[0m\u001b[0m\n\u001b[0;32m    198\u001b[0m \u001b[1;33m\u001b[0m\u001b[0m\n\u001b[1;32m--> 199\u001b[1;33m                 \u001b[0mouts\u001b[0m \u001b[1;33m=\u001b[0m \u001b[0mf\u001b[0m\u001b[1;33m(\u001b[0m\u001b[0mins_batch\u001b[0m\u001b[1;33m)\u001b[0m\u001b[1;33m\u001b[0m\u001b[1;33m\u001b[0m\u001b[0m\n\u001b[0m\u001b[0;32m    200\u001b[0m                 \u001b[0mouts\u001b[0m \u001b[1;33m=\u001b[0m \u001b[0mto_list\u001b[0m\u001b[1;33m(\u001b[0m\u001b[0mouts\u001b[0m\u001b[1;33m)\u001b[0m\u001b[1;33m\u001b[0m\u001b[1;33m\u001b[0m\u001b[0m\n\u001b[0;32m    201\u001b[0m                 \u001b[1;32mfor\u001b[0m \u001b[0ml\u001b[0m\u001b[1;33m,\u001b[0m \u001b[0mo\u001b[0m \u001b[1;32min\u001b[0m \u001b[0mzip\u001b[0m\u001b[1;33m(\u001b[0m\u001b[0mout_labels\u001b[0m\u001b[1;33m,\u001b[0m \u001b[0mouts\u001b[0m\u001b[1;33m)\u001b[0m\u001b[1;33m:\u001b[0m\u001b[1;33m\u001b[0m\u001b[1;33m\u001b[0m\u001b[0m\n",
      "\u001b[1;32m~\\AppData\\Local\\Continuum\\anaconda3\\envs\\fresh36\\lib\\site-packages\\keras\\backend\\tensorflow_backend.py\u001b[0m in \u001b[0;36m__call__\u001b[1;34m(self, inputs)\u001b[0m\n\u001b[0;32m   2713\u001b[0m                 \u001b[1;32mreturn\u001b[0m \u001b[0mself\u001b[0m\u001b[1;33m.\u001b[0m\u001b[0m_legacy_call\u001b[0m\u001b[1;33m(\u001b[0m\u001b[0minputs\u001b[0m\u001b[1;33m)\u001b[0m\u001b[1;33m\u001b[0m\u001b[1;33m\u001b[0m\u001b[0m\n\u001b[0;32m   2714\u001b[0m \u001b[1;33m\u001b[0m\u001b[0m\n\u001b[1;32m-> 2715\u001b[1;33m             \u001b[1;32mreturn\u001b[0m \u001b[0mself\u001b[0m\u001b[1;33m.\u001b[0m\u001b[0m_call\u001b[0m\u001b[1;33m(\u001b[0m\u001b[0minputs\u001b[0m\u001b[1;33m)\u001b[0m\u001b[1;33m\u001b[0m\u001b[1;33m\u001b[0m\u001b[0m\n\u001b[0m\u001b[0;32m   2716\u001b[0m         \u001b[1;32melse\u001b[0m\u001b[1;33m:\u001b[0m\u001b[1;33m\u001b[0m\u001b[1;33m\u001b[0m\u001b[0m\n\u001b[0;32m   2717\u001b[0m             \u001b[1;32mif\u001b[0m \u001b[0mpy_any\u001b[0m\u001b[1;33m(\u001b[0m\u001b[0mis_tensor\u001b[0m\u001b[1;33m(\u001b[0m\u001b[0mx\u001b[0m\u001b[1;33m)\u001b[0m \u001b[1;32mfor\u001b[0m \u001b[0mx\u001b[0m \u001b[1;32min\u001b[0m \u001b[0minputs\u001b[0m\u001b[1;33m)\u001b[0m\u001b[1;33m:\u001b[0m\u001b[1;33m\u001b[0m\u001b[1;33m\u001b[0m\u001b[0m\n",
      "\u001b[1;32m~\\AppData\\Local\\Continuum\\anaconda3\\envs\\fresh36\\lib\\site-packages\\keras\\backend\\tensorflow_backend.py\u001b[0m in \u001b[0;36m_call\u001b[1;34m(self, inputs)\u001b[0m\n\u001b[0;32m   2673\u001b[0m             \u001b[0mfetched\u001b[0m \u001b[1;33m=\u001b[0m \u001b[0mself\u001b[0m\u001b[1;33m.\u001b[0m\u001b[0m_callable_fn\u001b[0m\u001b[1;33m(\u001b[0m\u001b[1;33m*\u001b[0m\u001b[0marray_vals\u001b[0m\u001b[1;33m,\u001b[0m \u001b[0mrun_metadata\u001b[0m\u001b[1;33m=\u001b[0m\u001b[0mself\u001b[0m\u001b[1;33m.\u001b[0m\u001b[0mrun_metadata\u001b[0m\u001b[1;33m)\u001b[0m\u001b[1;33m\u001b[0m\u001b[1;33m\u001b[0m\u001b[0m\n\u001b[0;32m   2674\u001b[0m         \u001b[1;32melse\u001b[0m\u001b[1;33m:\u001b[0m\u001b[1;33m\u001b[0m\u001b[1;33m\u001b[0m\u001b[0m\n\u001b[1;32m-> 2675\u001b[1;33m             \u001b[0mfetched\u001b[0m \u001b[1;33m=\u001b[0m \u001b[0mself\u001b[0m\u001b[1;33m.\u001b[0m\u001b[0m_callable_fn\u001b[0m\u001b[1;33m(\u001b[0m\u001b[1;33m*\u001b[0m\u001b[0marray_vals\u001b[0m\u001b[1;33m)\u001b[0m\u001b[1;33m\u001b[0m\u001b[1;33m\u001b[0m\u001b[0m\n\u001b[0m\u001b[0;32m   2676\u001b[0m         \u001b[1;32mreturn\u001b[0m \u001b[0mfetched\u001b[0m\u001b[1;33m[\u001b[0m\u001b[1;33m:\u001b[0m\u001b[0mlen\u001b[0m\u001b[1;33m(\u001b[0m\u001b[0mself\u001b[0m\u001b[1;33m.\u001b[0m\u001b[0moutputs\u001b[0m\u001b[1;33m)\u001b[0m\u001b[1;33m]\u001b[0m\u001b[1;33m\u001b[0m\u001b[1;33m\u001b[0m\u001b[0m\n\u001b[0;32m   2677\u001b[0m \u001b[1;33m\u001b[0m\u001b[0m\n",
      "\u001b[1;32m~\\AppData\\Local\\Continuum\\anaconda3\\envs\\fresh36\\lib\\site-packages\\tensorflow\\python\\client\\session.py\u001b[0m in \u001b[0;36m__call__\u001b[1;34m(self, *args, **kwargs)\u001b[0m\n\u001b[0;32m   1437\u001b[0m           ret = tf_session.TF_SessionRunCallable(\n\u001b[0;32m   1438\u001b[0m               \u001b[0mself\u001b[0m\u001b[1;33m.\u001b[0m\u001b[0m_session\u001b[0m\u001b[1;33m.\u001b[0m\u001b[0m_session\u001b[0m\u001b[1;33m,\u001b[0m \u001b[0mself\u001b[0m\u001b[1;33m.\u001b[0m\u001b[0m_handle\u001b[0m\u001b[1;33m,\u001b[0m \u001b[0margs\u001b[0m\u001b[1;33m,\u001b[0m \u001b[0mstatus\u001b[0m\u001b[1;33m,\u001b[0m\u001b[1;33m\u001b[0m\u001b[1;33m\u001b[0m\u001b[0m\n\u001b[1;32m-> 1439\u001b[1;33m               run_metadata_ptr)\n\u001b[0m\u001b[0;32m   1440\u001b[0m         \u001b[1;32mif\u001b[0m \u001b[0mrun_metadata\u001b[0m\u001b[1;33m:\u001b[0m\u001b[1;33m\u001b[0m\u001b[1;33m\u001b[0m\u001b[0m\n\u001b[0;32m   1441\u001b[0m           \u001b[0mproto_data\u001b[0m \u001b[1;33m=\u001b[0m \u001b[0mtf_session\u001b[0m\u001b[1;33m.\u001b[0m\u001b[0mTF_GetBuffer\u001b[0m\u001b[1;33m(\u001b[0m\u001b[0mrun_metadata_ptr\u001b[0m\u001b[1;33m)\u001b[0m\u001b[1;33m\u001b[0m\u001b[1;33m\u001b[0m\u001b[0m\n",
      "\u001b[1;31mKeyboardInterrupt\u001b[0m: "
     ]
    }
   ],
   "source": [
    "from keras import optimizers\n",
    "from keras.callbacks import EarlyStopping, ModelCheckpoint\n",
    "\n",
    "# SET HYPERPARAMETERS -------------------------------------------------------------------------------------------\n",
    "LR               = 0.0004\n",
    "LR_DECAY         = 0.00\n",
    "EPOCHS           = 30\n",
    "BATCH_SIZE       = 32\n",
    "EMBEDDING_DIM    = embed_size\n",
    "DROPOUT          = 0.5         # Connection drop ratio for CNN to LSTM dropout\n",
    "LSTM_DROPOUT     = 0.0         # Connection drop ratio for gate-specific dropout\n",
    "BIDIRECTIONAL    = True\n",
    "RECURRENT_UNITS  = 30\n",
    "train_embeddings = not use_pretrained_embeddings\n",
    "print([LR, LR_DECAY, EPOCHS, BATCH_SIZE, EMBEDDING_DIM, DROPOUT, LSTM_DROPOUT])\n",
    "#---------------------------------------------------------------------------------------------------------------\n",
    "\n",
    "\n",
    "# BUILD MODEL --------------------------------------------------------------------------------------------------\n",
    "# - Can select which architecture to use (simple LSTM works pretty well)\n",
    "model, embed_idx = build_LSTM()\n",
    "# model, embed_idx = build_CNN_LSTM()\n",
    "# model, embed_idx = build_LSTM_CNN()\n",
    "# model, embed_idx = build_Bi_GRU_LSTM_CN_model(LR, LR_DECAY, embed_size, DROPOUT)\n",
    "#---------------------------------------------------------------------------------------------------------------\n",
    "\n",
    "\n",
    "# OPTIMIZER | COMPILE | EMBEDDINGS -----------------------------------------------------------------------------\n",
    "optim = optimizers.Adam(lr=LR, decay=LR_DECAY)\n",
    "model.compile(loss='binary_crossentropy', optimizer=optim, metrics=['accuracy'])\n",
    "if use_pretrained_embeddings:\n",
    "    model.layers[embed_idx].set_weights([embedding_matrix])\n",
    "model.summary()\n",
    "#---------------------------------------------------------------------------------------------------------------\n",
    "# X_train, X_val, y_train, y_val = (X, y, X_trial, Y_trial)\n",
    "X_train, X_val, Y_train, Y_val, y_train, y_val = train_test_split(X, Y, y, test_size=0.2, stratify=y)\n",
    "class_weights = sklearn.utils.class_weight.compute_class_weight('balanced', np.unique(y_train), y_train.reshape(-1))\n",
    "weights_dict = dict()\n",
    "for i, weight in enumerate(class_weights):\n",
    "    weights_dict[i] = weight\n",
    "print(\"Class weights (to address dataset imbalance)\")\n",
    "display(weights_dict)\n",
    "\n",
    "\n",
    "# Can change right hand side to (X, Y, X_trial, Y_trial) or (X_train, Y_train, X_val, Y_val)\n",
    "X_train, Y_train, y_train, X_val, Y_val, y_val = (X, Y, y, X_trial, Y_trial, y_trial)\n",
    "\n",
    "# FIT THE MODEL ------------------------------------------------------------------------------------------------\n",
    "auc_f1     =  ROC_F1(validation_data=(X_trial, y_trial), training_data=(X_train, y_train), interval=1)\n",
    "earlystop  =  EarlyStopping(monitor='val_loss', patience=30, verbose=1, mode='auto', restore_best_weights=True)\n",
    "filepath   =  \"weights-improvement-{epoch:02d}-{val_acc:.5f}-{val_loss:.5f}.hdf5\"\n",
    "checkpoint =  ModelCheckpoint(filepath, save_best_only=True, monitor='val_loss', verbose=1, mode='min')\n",
    "\n",
    "train_history = model.fit(X_train, Y_train, validation_data=(X_val, Y_val), class_weight=weights_dict, batch_size=BATCH_SIZE, epochs=EPOCHS,\n",
    "                          verbose=1, callbacks=[earlystop, checkpoint, auc_f1])\n",
    "# # #---------------------------------------------------------------------------------------------------------------"
   ]
  },
  {
   "cell_type": "code",
   "execution_count": 31,
   "metadata": {},
   "outputs": [],
   "source": [
    "from keras.models import load_model\n",
    "model.save('TASK_C_LSTM.h5')\n",
    "loaded_model = load_model('TASK_C_LSTM.h5')"
   ]
  },
  {
   "cell_type": "markdown",
   "metadata": {},
   "source": [
    "### Evaluate [Training History, Classification Report + Metrics]\n"
   ]
  },
  {
   "cell_type": "code",
   "execution_count": 39,
   "metadata": {
    "scrolled": false
   },
   "outputs": [
    {
     "data": {
      "image/png": "[encoded data removed]",
      "text/plain": [
       "<Figure size 1008x252 with 1 Axes>"
      ]
     },
     "metadata": {
      "needs_background": "light"
     },
     "output_type": "display_data"
    },
    {
     "data": {
      "text/plain": [
       "array([[0.68672734, 0.0990067 , 0.21426602],\n",
       "       [0.0864087 , 0.5814923 , 0.33209896],\n",
       "       [0.09657075, 0.18262857, 0.7208007 ],\n",
       "       ...,\n",
       "       [0.14119267, 0.46416208, 0.3946453 ],\n",
       "       [0.20204818, 0.25759333, 0.5403585 ],\n",
       "       [0.32000852, 0.11372364, 0.56626785]], dtype=float32)"
      ]
     },
     "metadata": {},
     "output_type": "display_data"
    },
    {
     "data": {
      "text/plain": [
       "(array([0, 1, 2], dtype=int64), array([2079,  915,  882], dtype=int64))"
      ]
     },
     "metadata": {},
     "output_type": "display_data"
    },
    {
     "name": "stdout",
     "output_type": "stream",
     "text": [
      "Validation Accuracy: 68.29%\n",
      "Normalized confusion matrix\n"
     ]
    },
    {
     "data": {
      "image/png": "[encoded data removed]",
      "text/plain": [
       "<Figure size 720x720 with 2 Axes>"
      ]
     },
     "metadata": {
      "needs_background": "light"
     },
     "output_type": "display_data"
    },
    {
     "name": "stdout",
     "output_type": "stream",
     "text": [
      "[[1804  226  377]\n",
      " [ 188  612  274]\n",
      " [  87   77  231]]\n",
      "              precision    recall  f1-score   support\n",
      "\n",
      "           0       0.87      0.75      0.80      2407\n",
      "           1       0.67      0.57      0.62      1074\n",
      "           2       0.26      0.58      0.36       395\n",
      "\n",
      "   micro avg       0.68      0.68      0.68      3876\n",
      "   macro avg       0.60      0.63      0.59      3876\n",
      "weighted avg       0.75      0.68      0.71      3876\n",
      "\n"
     ]
    }
   ],
   "source": [
    "height = 3.5;    width = height*4\n",
    "n_epochs = 40\n",
    "# n_epochs = len(train_history.history['loss'])\n",
    "\n",
    "# # Plot Loss\n",
    "# plt.figure(figsize=(width,height))\n",
    "# plt.plot(train_history.history['loss'], label=\"Train Loss\")\n",
    "# plt.plot(train_history.history['val_loss'], label=\"Validation Loss\")\n",
    "# plt.xlim([0,n_epochs-1]); plt.xticks(list(range(n_epochs)));   plt.grid(True);   plt.legend()\n",
    "# plt.title(\"Loss (Binary Cross-entropy)\", fontsize=15)\n",
    "# plt.show()\n",
    "\n",
    "# # Plot accuracy\n",
    "# plt.figure(figsize=(width,height))\n",
    "# plt.plot(train_history.history['acc'], label=\"Train Accuracy\")\n",
    "# plt.plot(train_history.history['val_acc'], label=\"Validation Accuracy\")\n",
    "# plt.xlim([0,n_epochs-1]); plt.xticks(list(range(n_epochs)));   plt.grid(True);   plt.legend()\n",
    "# plt.title(\"Accuracy\", fontsize=15)\n",
    "# plt.show()\n",
    "\n",
    "# Plot F1\n",
    "plt.figure(figsize=(width,height))\n",
    "plt.plot(auc_f1.f1s_train, label=\"Train F1\")\n",
    "plt.plot(auc_f1.f1s_val, label=\"Validation F1\")\n",
    "plt.xlim([0,n_epochs-1]); plt.xticks(list(range(n_epochs)));   plt.grid(True);   plt.legend()\n",
    "plt.title(\"F1-score\", fontsize=15)\n",
    "plt.show()\n",
    "\n",
    "\n",
    "##### Confusion matrix & Classication Report ###################################################\n",
    "import itertools\n",
    "\n",
    "def plot_confusion_matrix(cm, classes,\n",
    "                          normalize=False,\n",
    "                          title='Confusion matrix',\n",
    "                          cmap=plt.cm.Blues):\n",
    "    if normalize:\n",
    "        cm = cm.astype('float') / cm.sum(axis=1)[:, np.newaxis]\n",
    "        print(\"Normalized confusion matrix\")\n",
    "    else:\n",
    "        print('Confusion matrix, without normalization')\n",
    "\n",
    "    plt.imshow(cm, interpolation='nearest', cmap=cmap)\n",
    "    plt.title(title)\n",
    "    plt.colorbar()\n",
    "    tick_marks = np.arange(len(classes))\n",
    "    plt.xticks(tick_marks, classes, rotation=45)\n",
    "    plt.yticks(tick_marks, classes)\n",
    "\n",
    "    fmt = '.2f' if normalize else 'd'\n",
    "    thresh = cm.max() / 2.\n",
    "    for i, j in itertools.product(range(cm.shape[0]), range(cm.shape[1])):\n",
    "        plt.text(j, i, format(cm[i, j], fmt),\n",
    "                 horizontalalignment=\"center\",\n",
    "                 color=\"white\" if cm[i, j] > thresh else \"black\", fontsize=30)\n",
    "\n",
    "    plt.ylabel('True label')\n",
    "    plt.xlabel('Predicted label')\n",
    "    plt.tight_layout()\n",
    "\n",
    "X_eval = X\n",
    "y_eval = y\n",
    "\n",
    "y_pred = model.predict(X_eval)\n",
    "y_pred = np.argmax(y_pred, axis=1).reshape(-1,1)\n",
    "display(np.unique(y_pred, return_counts=True))\n",
    "print(\"Validation Accuracy: {:0.2f}%\".format(np.sum(y_eval==y_pred)/y_eval.shape[0]*100))\n",
    "\n",
    "cm = confusion_matrix(y_eval, y_pred)\n",
    "fig = plt.figure(figsize=(10, 10))\n",
    "plot = plot_confusion_matrix(cm, classes=['IND','GRP', 'OTH'], normalize=True, title='Confusion matrix')\n",
    "plt.show()\n",
    "print(cm)\n",
    "\n",
    "\n",
    "from sklearn.metrics import classification_report\n",
    "print(classification_report(y_eval, y_pred))"
   ]
  },
  {
   "cell_type": "markdown",
   "metadata": {},
   "source": [
    "## Generate Submission"
   ]
  },
  {
   "cell_type": "code",
   "execution_count": 12,
   "metadata": {},
   "outputs": [
    {
     "data": {
      "text/plain": [
       "array([[0.03312751, 0.33906198, 0.6278105 ],\n",
       "       [0.12216339, 0.31867164, 0.55916494],\n",
       "       [0.58210313, 0.06761082, 0.3502861 ],\n",
       "       [0.88498443, 0.04752984, 0.06748574],\n",
       "       [0.88499093, 0.02619039, 0.08881866],\n",
       "       [0.61717147, 0.15621927, 0.22660929],\n",
       "       [0.35042155, 0.27476373, 0.37481475],\n",
       "       [0.74616224, 0.04760157, 0.20623617],\n",
       "       [0.6315786 , 0.11485177, 0.25356963],\n",
       "       [0.92747325, 0.01976245, 0.05276426],\n",
       "       [0.13984713, 0.1547026 , 0.7054503 ],\n",
       "       [0.911203  , 0.02568457, 0.06311237],\n",
       "       [0.1005515 , 0.32720765, 0.5722408 ],\n",
       "       [0.4534931 , 0.19886215, 0.34764478],\n",
       "       [0.09481548, 0.68201804, 0.22316644],\n",
       "       [0.743002  , 0.07573733, 0.18126065],\n",
       "       [0.03642835, 0.8501375 , 0.11343419],\n",
       "       [0.19447967, 0.09283066, 0.71268964],\n",
       "       [0.05146604, 0.6107441 , 0.33778992],\n",
       "       [0.12955882, 0.33124584, 0.53919536],\n",
       "       [0.2610229 , 0.3319998 , 0.40697727],\n",
       "       [0.6193233 , 0.10157055, 0.2791062 ],\n",
       "       [0.4421378 , 0.12027363, 0.4375886 ],\n",
       "       [0.86515224, 0.0470167 , 0.08783102],\n",
       "       [0.86288553, 0.05478689, 0.08232757],\n",
       "       [0.80925167, 0.07333867, 0.11740967],\n",
       "       [0.3847019 , 0.17302349, 0.4422747 ],\n",
       "       [0.05175285, 0.5776125 , 0.37063468],\n",
       "       [0.2469791 , 0.22181015, 0.5312108 ],\n",
       "       [0.8716777 , 0.05529607, 0.07302619],\n",
       "       [0.10135837, 0.26333117, 0.6353105 ],\n",
       "       [0.86515224, 0.0470167 , 0.08783102],\n",
       "       [0.9281188 , 0.03571701, 0.03616416],\n",
       "       [0.8544836 , 0.0471641 , 0.09835228],\n",
       "       [0.16810766, 0.64938354, 0.18250875],\n",
       "       [0.05632047, 0.65489006, 0.28878948],\n",
       "       [0.68122303, 0.11884873, 0.19992821],\n",
       "       [0.4892673 , 0.14476958, 0.36596316],\n",
       "       [0.44415745, 0.11965988, 0.43618262],\n",
       "       [0.09485107, 0.56988674, 0.33526218],\n",
       "       [0.89620465, 0.0331731 , 0.07062225],\n",
       "       [0.39621145, 0.29067987, 0.3131087 ],\n",
       "       [0.0772438 , 0.7891867 , 0.13356943],\n",
       "       [0.02593264, 0.8603921 , 0.11367518],\n",
       "       [0.13668486, 0.5164182 , 0.34689695],\n",
       "       [0.87135583, 0.03959684, 0.08904731],\n",
       "       [0.29739356, 0.2502166 , 0.4523899 ],\n",
       "       [0.19544968, 0.28418502, 0.5203653 ],\n",
       "       [0.02858391, 0.8516475 , 0.1197685 ],\n",
       "       [0.11013633, 0.3258838 , 0.56397986],\n",
       "       [0.41153526, 0.10990715, 0.4785576 ],\n",
       "       [0.425306  , 0.17350498, 0.4011891 ],\n",
       "       [0.60847163, 0.09678218, 0.29474622],\n",
       "       [0.09520926, 0.6329504 , 0.27184027],\n",
       "       [0.38292247, 0.3804097 , 0.23666781],\n",
       "       [0.9356734 , 0.02980797, 0.03451863],\n",
       "       [0.0217574 , 0.7045039 , 0.27373874],\n",
       "       [0.6335275 , 0.17662656, 0.18984595],\n",
       "       [0.9636227 , 0.01274523, 0.02363209],\n",
       "       [0.17274225, 0.28640103, 0.5408567 ],\n",
       "       [0.17556165, 0.61235094, 0.21208741],\n",
       "       [0.89350134, 0.04679896, 0.05969962],\n",
       "       [0.06294604, 0.68091226, 0.2561417 ],\n",
       "       [0.25720352, 0.16780907, 0.5749875 ],\n",
       "       [0.7645401 , 0.07582556, 0.15963441],\n",
       "       [0.32978198, 0.2576342 , 0.41258383],\n",
       "       [0.53815913, 0.08720014, 0.37464067],\n",
       "       [0.26599845, 0.18895812, 0.54504347],\n",
       "       [0.04026123, 0.7373272 , 0.22241151],\n",
       "       [0.29244366, 0.22040774, 0.48714852],\n",
       "       [0.836863  , 0.06692003, 0.09621703],\n",
       "       [0.38948575, 0.21475215, 0.3957621 ],\n",
       "       [0.10715792, 0.49726748, 0.39557463],\n",
       "       [0.05699768, 0.30295542, 0.64004695],\n",
       "       [0.63040614, 0.21624686, 0.15334699],\n",
       "       [0.12919617, 0.6281473 , 0.24265651],\n",
       "       [0.9457122 , 0.01810754, 0.03618023],\n",
       "       [0.6331311 , 0.07233863, 0.29453024],\n",
       "       [0.05412332, 0.46433172, 0.48154494],\n",
       "       [0.06438921, 0.7180416 , 0.21756916],\n",
       "       [0.40674138, 0.19990113, 0.39335752],\n",
       "       [0.53443855, 0.15808967, 0.3074718 ],\n",
       "       [0.9242882 , 0.02724143, 0.04847041],\n",
       "       [0.9242882 , 0.02724143, 0.04847041],\n",
       "       [0.07379842, 0.38215044, 0.5440511 ],\n",
       "       [0.79146695, 0.06546609, 0.14306687],\n",
       "       [0.70637125, 0.13132276, 0.162306  ],\n",
       "       [0.82019866, 0.09791727, 0.08188403],\n",
       "       [0.9247702 , 0.03287247, 0.04235731],\n",
       "       [0.83447856, 0.03445146, 0.13107002],\n",
       "       [0.691311  , 0.04874548, 0.25994346],\n",
       "       [0.4226214 , 0.358699  , 0.21867962],\n",
       "       [0.5705162 , 0.13655989, 0.29292393],\n",
       "       [0.08333134, 0.40048426, 0.51618433],\n",
       "       [0.47115958, 0.23348244, 0.29535803],\n",
       "       [0.0500996 , 0.7480151 , 0.2018852 ],\n",
       "       [0.51406807, 0.1626383 , 0.32329366],\n",
       "       [0.62118626, 0.08845517, 0.2903586 ],\n",
       "       [0.13593893, 0.62348753, 0.24057357],\n",
       "       [0.7960271 , 0.04326535, 0.16070753],\n",
       "       [0.44695073, 0.18535075, 0.36769855],\n",
       "       [0.77819073, 0.07918843, 0.14262089],\n",
       "       [0.02590717, 0.75921255, 0.21488023],\n",
       "       [0.06232242, 0.4215103 , 0.5161673 ],\n",
       "       [0.5479012 , 0.11351643, 0.3385823 ],\n",
       "       [0.4923885 , 0.21537559, 0.29223585],\n",
       "       [0.63257444, 0.12930106, 0.23812452],\n",
       "       [0.3507278 , 0.21643145, 0.4328407 ],\n",
       "       [0.4125308 , 0.09005124, 0.49741793],\n",
       "       [0.13183834, 0.5354968 , 0.33266497],\n",
       "       [0.19216447, 0.18995464, 0.6178809 ],\n",
       "       [0.25607684, 0.5810779 , 0.16284533],\n",
       "       [0.5905102 , 0.21671423, 0.19277567],\n",
       "       [0.21315856, 0.17848574, 0.6083557 ],\n",
       "       [0.534762  , 0.29673806, 0.1684999 ],\n",
       "       [0.70836675, 0.09867241, 0.19296084],\n",
       "       [0.6965804 , 0.06952124, 0.23389839],\n",
       "       [0.7909063 , 0.03719488, 0.17189875],\n",
       "       [0.6102028 , 0.07829396, 0.3115033 ],\n",
       "       [0.02135819, 0.85145223, 0.12718965],\n",
       "       [0.9473335 , 0.02000088, 0.03266557],\n",
       "       [0.1459138 , 0.2862291 , 0.56785715],\n",
       "       [0.01834046, 0.8803244 , 0.10133511],\n",
       "       [0.13646235, 0.50550044, 0.3580372 ],\n",
       "       [0.6713414 , 0.10255911, 0.22609946],\n",
       "       [0.9037991 , 0.03868699, 0.05751395],\n",
       "       [0.06390736, 0.7187163 , 0.2173764 ],\n",
       "       [0.86889833, 0.03544598, 0.09565569],\n",
       "       [0.38735318, 0.0995122 , 0.5131346 ],\n",
       "       [0.24091762, 0.5033491 , 0.25573325],\n",
       "       [0.90789956, 0.03380268, 0.05829781],\n",
       "       [0.67747736, 0.07723779, 0.24528484],\n",
       "       [0.17667833, 0.2497326 , 0.5735891 ],\n",
       "       [0.31747854, 0.27856538, 0.4039561 ],\n",
       "       [0.15561369, 0.6842871 , 0.16009927],\n",
       "       [0.65921265, 0.07972809, 0.2610593 ],\n",
       "       [0.92058194, 0.02354715, 0.05587095],\n",
       "       [0.8354257 , 0.05538445, 0.10918981],\n",
       "       [0.04061594, 0.5827636 , 0.37662044],\n",
       "       [0.10884126, 0.58941835, 0.30174038],\n",
       "       [0.12954473, 0.36558083, 0.50487447],\n",
       "       [0.18529285, 0.05412366, 0.76058346],\n",
       "       [0.84601086, 0.05037109, 0.10361806],\n",
       "       [0.04684989, 0.7185285 , 0.23462158],\n",
       "       [0.5071484 , 0.08169608, 0.41115555],\n",
       "       [0.75165695, 0.03679038, 0.21155272],\n",
       "       [0.57547003, 0.12630083, 0.29822916],\n",
       "       [0.7981955 , 0.08307182, 0.1187328 ],\n",
       "       [0.11837476, 0.22662345, 0.6550018 ],\n",
       "       [0.79877156, 0.05477163, 0.14645684],\n",
       "       [0.3838859 , 0.27224135, 0.34387276],\n",
       "       [0.7295893 , 0.06237203, 0.20803866],\n",
       "       [0.7286525 , 0.05560198, 0.21574548],\n",
       "       [0.60730475, 0.1134692 , 0.279226  ],\n",
       "       [0.6513973 , 0.1858967 , 0.16270599],\n",
       "       [0.9322252 , 0.02114557, 0.04662917],\n",
       "       [0.13183834, 0.5354968 , 0.33266497],\n",
       "       [0.2471842 , 0.30352327, 0.44929248],\n",
       "       [0.85702705, 0.04907864, 0.09389433],\n",
       "       [0.19257793, 0.3722224 , 0.43519968],\n",
       "       [0.6001131 , 0.18475462, 0.2151323 ],\n",
       "       [0.9255434 , 0.02933936, 0.04511718],\n",
       "       [0.03001899, 0.47420996, 0.49577105],\n",
       "       [0.8045828 , 0.06256775, 0.13284944],\n",
       "       [0.41368932, 0.19464973, 0.39166096],\n",
       "       [0.50140774, 0.23791343, 0.26067886],\n",
       "       [0.15882932, 0.20526654, 0.6359042 ],\n",
       "       [0.06519293, 0.51062346, 0.4241836 ],\n",
       "       [0.42669213, 0.13527574, 0.43803215],\n",
       "       [0.73865527, 0.08346967, 0.1778751 ],\n",
       "       [0.88363636, 0.04512192, 0.07124177],\n",
       "       [0.38292447, 0.17562409, 0.4414514 ],\n",
       "       [0.6389157 , 0.19902682, 0.16205743],\n",
       "       [0.9118933 , 0.02567006, 0.06243659],\n",
       "       [0.9071091 , 0.03042555, 0.0624654 ],\n",
       "       [0.83538806, 0.09566908, 0.06894279],\n",
       "       [0.11492134, 0.4796077 , 0.40547094],\n",
       "       [0.50566   , 0.30245945, 0.1918806 ],\n",
       "       [0.89991605, 0.03965372, 0.06043024],\n",
       "       [0.19708236, 0.21508454, 0.5878331 ],\n",
       "       [0.7025622 , 0.06847459, 0.22896321],\n",
       "       [0.33868864, 0.11601064, 0.5453008 ],\n",
       "       [0.2114067 , 0.12524068, 0.66335255],\n",
       "       [0.12800571, 0.7047091 , 0.16728514],\n",
       "       [0.45464808, 0.11141165, 0.43394026],\n",
       "       [0.20931639, 0.31661138, 0.47407225],\n",
       "       [0.8185749 , 0.06938549, 0.11203965],\n",
       "       [0.0720448 , 0.6076876 , 0.32026756],\n",
       "       [0.11507367, 0.49639982, 0.38852647],\n",
       "       [0.31122726, 0.21888103, 0.4698917 ],\n",
       "       [0.74612796, 0.0812792 , 0.1725928 ],\n",
       "       [0.2613018 , 0.39944395, 0.33925426],\n",
       "       [0.40792647, 0.09849565, 0.49357796],\n",
       "       [0.7461378 , 0.12454648, 0.12931564],\n",
       "       [0.06487272, 0.82509166, 0.11003561],\n",
       "       [0.36447486, 0.14161618, 0.49390894],\n",
       "       [0.6988192 , 0.09569013, 0.20549066],\n",
       "       [0.14230752, 0.68329805, 0.17439447],\n",
       "       [0.80579484, 0.05319421, 0.14101098],\n",
       "       [0.20958081, 0.56738156, 0.22303766],\n",
       "       [0.942109  , 0.02943615, 0.0284548 ],\n",
       "       [0.6729924 , 0.08782562, 0.23918195],\n",
       "       [0.3036958 , 0.19993939, 0.49636486],\n",
       "       [0.48585916, 0.12108491, 0.39305598],\n",
       "       [0.87891275, 0.02897874, 0.09210843],\n",
       "       [0.73143643, 0.03744545, 0.2311181 ],\n",
       "       [0.10387712, 0.46876723, 0.42735565],\n",
       "       [0.4137594 , 0.29086074, 0.29537988],\n",
       "       [0.61241806, 0.1776276 , 0.20995435],\n",
       "       [0.40900534, 0.3578503 , 0.23314437],\n",
       "       [0.61345905, 0.06938628, 0.3171547 ],\n",
       "       [0.24328955, 0.39664054, 0.3600699 ],\n",
       "       [0.05477456, 0.10783895, 0.8373865 ]], dtype=float32)"
      ]
     },
     "metadata": {},
     "output_type": "display_data"
    },
    {
     "data": {
      "text/plain": [
       "(213, 1)"
      ]
     },
     "metadata": {},
     "output_type": "display_data"
    }
   ],
   "source": [
    "from keras.models import load_model\n",
    "model = load_model(\"model_C.h5\")\n",
    "params = dict(remove_USER_URL=True,\n",
    "              remove_stopwords=False,\n",
    "              remove_HTMLentities=True,\n",
    "              remove_punctuation=True,\n",
    "              appostrophe_handling=True,\n",
    "              lemmatize=True)\n",
    "\n",
    "df_test = pd.read_csv('../OffensEval_data/test/test_set_taskc.tsv',sep='\\t')\n",
    "ID = df_test['id']\n",
    "\n",
    "X_test = df_test['tweet'].apply(lambda x: process_tweet(x, **params, trial=False)).values\n",
    "\n",
    "sequences_test = tokenizer.texts_to_sequences(X_test)\n",
    "X_test = pad_sequences(sequences_test, maxlen = max_seq_len)\n",
    "\n",
    "X_test.shape\n",
    "\n",
    "Y_pred = model.predict(X_test)\n",
    "# y_pred = np.array([0.6, 0.3, 0.2, 0.7]).reshape(-1,1)\n",
    "display(Y_pred)\n",
    "\n",
    "classes = np.argmax(Y_pred, axis=1).reshape(-1,1)\n",
    "display(classes.shape)\n",
    "\n",
    "df_submission = pd.DataFrame()\n",
    "df_submission['id'] = ID\n",
    "df_submission['label'] = classes\n",
    "df_submission['label'] = df_submission['label'].replace({0: 'IND', 1: 'GRP', 2: 'OTH'})\n",
    "df_submission.head()\n",
    "df_submission.to_csv(\"submission_c/test_c_submission.csv\", header=None, index=None)"
   ]
  },
  {
   "cell_type": "code",
   "execution_count": null,
   "metadata": {},
   "outputs": [],
   "source": []
  },
  {
   "cell_type": "code",
   "execution_count": null,
   "metadata": {},
   "outputs": [],
   "source": []
  },
  {
   "cell_type": "code",
   "execution_count": null,
   "metadata": {},
   "outputs": [],
   "source": []
  },
  {
   "cell_type": "code",
   "execution_count": null,
   "metadata": {},
   "outputs": [],
   "source": []
  },
  {
   "cell_type": "code",
   "execution_count": null,
   "metadata": {},
   "outputs": [],
   "source": []
  },
  {
   "cell_type": "code",
   "execution_count": null,
   "metadata": {},
   "outputs": [],
   "source": [
    "# TO USE TWITTER GLOVE EMBEDDINGS ##########################\n",
    "# https://nlp.stanford.edu/projects/glove/\n",
    "# https://nlp.stanford.edu/data/glove.twitter.27B.zip\n",
    "\n",
    "# PRE-PROCESS\n",
    "import re\n",
    "def glove_preprocess(text):\n",
    "    \"\"\"\n",
    "    adapted from https://nlp.stanford.edu/projects/glove/preprocess-twitter.rb\n",
    "    \"\"\"\n",
    "    # Different regex parts for smiley faces\n",
    "    eyes = \"[8:=;]\"\n",
    "    nose = \"['`\\-]?\"\n",
    "    text = re.sub(r'http\\S+', '<URL> ', text)\n",
    "    text = re.sub(r'@\\S+', '<USER>', text)\n",
    "    text = re.sub(\"www.* \", \"<URL>\", text)\n",
    "    text = re.sub(\"\\[\\[User(.*)\\|\", '<USER>', text)\n",
    "    text = re.sub(\"<3\", r'<HEART> ', text)\n",
    "    text = re.sub(\"[-+]?[.\\d]*[\\d]+[:,.\\d]*\", \"<NUMBER>\", text)\n",
    "    text = re.sub(eyes + nose + \"[Dd)]\", '<SMILE>', text)\n",
    "    text = re.sub(\"[(d]\" + nose + eyes, '<SMILE>', text)\n",
    "    text = re.sub(eyes + nose + \"p\", '<LOLFACE>', text)\n",
    "    text = re.sub(eyes + nose + \"\\(\", '<SADFACE>', text)\n",
    "    text = re.sub(\"\\)\" + nose + eyes, '<SADFACE>', text)\n",
    "    text = re.sub(eyes + nose + \"[/|l*]\", '<NEUTRALFACE>', text)\n",
    "    text = re.sub(\"/\", \" / \", text)\n",
    "    text = re.sub(\"[-+]?[.\\d]*[\\d]+[:,.\\d]*\", \"<NUMBER>\", text)\n",
    "    text = re.sub(\"([!]){2,}\", \"! <REPEAT>\", text)\n",
    "    text = re.sub(\"([?]){2,}\", \"? <REPEAT>\", text)\n",
    "    text = re.sub(\"([.]){2,}\", \". <REPEAT>\", text)\n",
    "    pattern = re.compile(r\"(.)\\1{2,}\")\n",
    "    text = pattern.sub(r\"\\1\" + \" <ELONG>\", text)\n",
    "    return text"
   ]
  },
  {
   "cell_type": "code",
   "execution_count": null,
   "metadata": {},
   "outputs": [],
   "source": [
    "text = \"@handermoren you are an absolute moron ???????? idiot 6 :( :p :) https://google.es\"\n",
    "print(text)\n",
    "text = glove_preprocess(text)\n",
    "print(text)"
   ]
  }
 ],
 "metadata": {
  "kernelspec": {
   "display_name": "Python 3",
   "language": "python",
   "name": "python3"
  },
  "language_info": {
   "codemirror_mode": {
    "name": "ipython",
    "version": 3
   },
   "file_extension": ".py",
   "mimetype": "text/x-python",
   "name": "python",
   "nbconvert_exporter": "python",
   "pygments_lexer": "ipython3",
   "version": "3.6.6"
  },
  "varInspector": {
   "cols": {
    "lenName": 16,
    "lenType": 16,
    "lenVar": 40
   },
   "kernels_config": {
    "python": {
     "delete_cmd_postfix": "",
     "delete_cmd_prefix": "del ",
     "library": "var_list.py",
     "varRefreshCmd": "print(var_dic_list())"
    },
    "r": {
     "delete_cmd_postfix": ") ",
     "delete_cmd_prefix": "rm(",
     "library": "var_list.r",
     "varRefreshCmd": "cat(var_dic_list()) "
    }
   },
   "position": {
    "height": "482px",
    "left": "1550px",
    "right": "20px",
    "top": "120px",
    "width": "350px"
   },
   "types_to_exclude": [
    "module",
    "function",
    "builtin_function_or_method",
    "instance",
    "_Feature"
   ],
   "window_display": false
  }
 },
 "nbformat": 4,
 "nbformat_minor": 2
}
