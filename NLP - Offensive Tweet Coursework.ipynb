{
 "cells": [
  {
   "cell_type": "code",
   "execution_count": 1,
   "metadata": {
    "scrolled": true
   },
   "outputs": [
    {
     "name": "stdout",
     "output_type": "stream",
     "text": [
      "[nltk_data] Downloading package wordnet to\n",
      "[nltk_data]     C:\\Users\\acamb\\AppData\\Roaming\\nltk_data...\n",
      "[nltk_data]   Package wordnet is already up-to-date!\n",
      "[nltk_data] Downloading package stopwords to\n",
      "[nltk_data]     C:\\Users\\acamb\\AppData\\Roaming\\nltk_data...\n",
      "[nltk_data]   Package stopwords is already up-to-date!\n"
     ]
    },
    {
     "name": "stderr",
     "output_type": "stream",
     "text": [
      "Using TensorFlow backend.\n"
     ]
    }
   ],
   "source": [
    "import numpy as np\n",
    "import pandas as pd\n",
    "import sklearn\n",
    "import time\n",
    "import matplotlib.pyplot as plt\n",
    "\n",
    "# NLP\n",
    "import re\n",
    "import string\n",
    "import html\n",
    "import nltk\n",
    "from nltk.corpus import stopwords\n",
    "from nltk.tokenize import word_tokenize\n",
    "from nltk.tokenize import TweetTokenizer\n",
    "from nltk.stem.wordnet import WordNetLemmatizer\n",
    "nltk.download('wordnet')\n",
    "nltk.download('stopwords')\n",
    "\n",
    "# KERAS / TF\n",
    "import os\n",
    "# os.environ[\"CUDA_DEVICE_ORDER\"] = \"PCI_BUS_ID\"\n",
    "# os.environ['CUDA_VISIBLE_DEVICES'] = '0'\n",
    "import keras.backend as K\n",
    "from keras.preprocessing.text import Tokenizer\n",
    "from keras.preprocessing.sequence import pad_sequences\n",
    "from keras.models import Model, Sequential\n",
    "from keras.layers import Dense, Flatten, LSTM, Conv1D, MaxPooling1D, Dropout, Activation, Bidirectional, concatenate, \\\n",
    "                         CuDNNLSTM, CuDNNGRU, SpatialDropout1D, GlobalAveragePooling1D, GlobalMaxPooling1D, Input, \\\n",
    "                         Flatten, GRU\n",
    "from keras.layers.embeddings import Embedding\n",
    "\n",
    "\n",
    "# Flags\n",
    "balance_dataset = False              # If true, it under-samples the training dataset to get same amount of labels\n",
    "use_pretrained_embeddings = True     # If true, it enables the use of GloVe pre-trained Twitter word-embeddings"
   ]
  },
  {
   "cell_type": "code",
   "execution_count": 2,
   "metadata": {},
   "outputs": [
    {
     "data": {
      "text/plain": [
       "['/job:localhost/replica:0/task:0/device:GPU:0']"
      ]
     },
     "execution_count": 2,
     "metadata": {},
     "output_type": "execute_result"
    }
   ],
   "source": [
    "K.tensorflow_backend._get_available_gpus()"
   ]
  },
  {
   "cell_type": "code",
   "execution_count": 3,
   "metadata": {},
   "outputs": [],
   "source": [
    "from keras.callbacks import Callback\n",
    "from sklearn.metrics import roc_auc_score\n",
    "from sklearn.metrics import f1_score\n",
    "\n",
    "class ROC_F1(Callback):\n",
    "    def __init__(self, validation_data=(), training_data=(), interval=1):\n",
    "        super(Callback, self).__init__()\n",
    "        self.interval = interval\n",
    "        self.X_val, self.y_val = (X_trial, y_trial)\n",
    "        \n",
    "        self.f1s_train = []\n",
    "        self.f1s_val = []\n",
    "        self.aucs_train = []\n",
    "        self.aucs_val = []\n",
    "\n",
    "    def on_epoch_end(self, epoch, logs={}):\n",
    "        if epoch % self.interval == 0:\n",
    "            y_pred_train = np.round(self.model.predict(X, verbose=0))\n",
    "            y_pred_val   = np.round(self.model.predict(self.X_val, verbose=0))\n",
    "\n",
    "            auc_train = roc_auc_score(y, y_pred_train)\n",
    "            auc_val   = roc_auc_score(self.y_val, y_pred_val)\n",
    "            f1_train = f1_score(y, y_pred_train, average='macro')\n",
    "            f1_val   = f1_score(self.y_val, y_pred_val, average='macro')\n",
    "            \n",
    "            self.aucs_train.append(auc_train)\n",
    "            self.aucs_val.append(auc_val)\n",
    "            self.f1s_val.append(f1_val)\n",
    "            self.f1s_train.append(f1_train)\n",
    "            \n",
    "            print(\"     - LR: {:0.5f} train_auc: {:.4f} - train_F1: {:.4f} - val_auc: {:.4f} - val_F1: {:.4f}\".format(K.eval(self.model.optimizer.lr), auc_train, f1_train, auc_val, f1_val))\n",
    "#         if epoch % 1 == 0:\n",
    "            height = 3.5;    width = height*4\n",
    "            plt.figure(figsize=(width,height))\n",
    "            plt.plot(self.f1s_train, label=\"Train F1\")\n",
    "            plt.plot(self.f1s_val, label=\"Validation F1\")\n",
    "            plt.xlim([0,50]); plt.xticks(list(range(50)));   plt.grid(True);   plt.legend()\n",
    "            plt.title(\"F1-score\", fontsize=15)\n",
    "            plt.show()\n",
    "            plt.show()"
   ]
  },
  {
   "cell_type": "code",
   "execution_count": 4,
   "metadata": {},
   "outputs": [],
   "source": [
    "def process_tweet(tweet, remove_USER_URL=True, remove_punctuation=True, remove_stopwords=True, remove_HTMLentities=True, appostrophe_handling=True, lemmatize=True, trial=False):\n",
    "    \"\"\"\n",
    "    This function receives tweets and returns clean word-list\n",
    "    \"\"\"\n",
    "    ### Handle USERS and URLS ################################################\n",
    "    if remove_USER_URL:\n",
    "        if trial:\n",
    "            tweet = re.sub(r'@\\w+ ?', '', tweet)\n",
    "            tweet = re.sub(r'http\\S+', '', tweet)\n",
    "        else:\n",
    "            tweet = re.sub(r\"@USER\", \"\", tweet)\n",
    "            tweet = re.sub(r\"URL\", \"\", tweet)\n",
    "    else:\n",
    "        if trial:\n",
    "            tweet = re.sub(r'@\\w+ ?', '<usertoken> ', tweet)\n",
    "            tweet = re.sub(r'http\\S+', '<urltoken> ', tweet)\n",
    "        else:\n",
    "            tweet = re.sub(r\"@USER\", \"<usertoken>\", tweet)\n",
    "            tweet = re.sub(r\"URL\", \"<urltoken>\", tweet)\n",
    "    \n",
    "    \n",
    "    ### Remove HTML Entities #################################################\n",
    "    if remove_HTMLentities:\n",
    "        tweet = html.unescape(tweet)\n",
    "    \n",
    "    \n",
    "    ### REMOVE HASHTAGS? #####################################################\n",
    "    # Tokenize\n",
    "    # iterate through words and remove those which start with #\n",
    "    \n",
    "    ### Convert to lower case: Hi->hi, MAGA -> maga ##########################\n",
    "    tweet = tweet.lower()\n",
    "    \n",
    "    \n",
    "    ### Cleaning: non-ASCII filtering, some appostrophes, separation #########\n",
    "    tweet = re.sub(r\"[^A-Za-z0-9^,!.\\/'+-=@]\", \" \", tweet)\n",
    "    tweet = re.sub(r\"what's\", \"what is \", tweet)\n",
    "    tweet = re.sub(r\"\\'s\", \" \", tweet)\n",
    "    tweet = re.sub(r\"\\'ve\", \" have \", tweet)\n",
    "    tweet = re.sub(r\"n't\", \" not \", tweet)\n",
    "    tweet = re.sub(r\"i'm\", \"i am \", tweet)\n",
    "    tweet = re.sub(r\"\\'re\", \" are \", tweet)\n",
    "    tweet = re.sub(r\"\\'d\", \" would \", tweet)\n",
    "    tweet = re.sub(r\"\\'ll\", \" will \", tweet)\n",
    "    tweet = re.sub(r\",\", \" \", tweet)\n",
    "    tweet = re.sub(r\"\\.\", \" \", tweet)\n",
    "    tweet = re.sub(r\"!\", \" ! \", tweet)\n",
    "    tweet = re.sub(r\"\\/\", \" \", tweet)\n",
    "    tweet = re.sub(r\"\\^\", \" ^ \", tweet)\n",
    "    tweet = re.sub(r\"\\+\", \" + \", tweet)\n",
    "    tweet = re.sub(r\"\\-\", \" - \", tweet)\n",
    "    tweet = re.sub(r\"\\=\", \" = \", tweet)\n",
    "    tweet = re.sub(r\"'\", \" \", tweet)\n",
    "    tweet = re.sub(r\"(\\d+)(k)\", r\"\\g<1>000\", tweet)\n",
    "    tweet = re.sub(r\":\", \" : \", tweet)\n",
    "    tweet = re.sub(r\" e g \", \" eg \", tweet)\n",
    "    tweet = re.sub(r\" b g \", \" bg \", tweet)\n",
    "    tweet = re.sub(r\" u s \", \" american \", tweet)\n",
    "    tweet = re.sub(r\"\\0s\", \"0\", tweet)\n",
    "    tweet = re.sub(r\" 9 11 \", \"911\", tweet)\n",
    "    tweet = re.sub(r\"e - mail\", \"email\", tweet)\n",
    "    tweet = re.sub(r\"j k\", \"jk\", tweet)\n",
    "    tweet = re.sub(r\"\\s{2,}\", \" \", tweet)\n",
    "    \n",
    "    \n",
    "    ### Remove Punctuation ###################################################\n",
    "    if remove_punctuation:\n",
    "        translator = str.maketrans('', '', ''.join(list(set(string.punctuation) - set(\"'\"))))\n",
    "        tweet = tweet.translate(translator)\n",
    "    \n",
    "    \n",
    "    # Tokenize sentence for further word-level processing\n",
    "    tokenizer  = TweetTokenizer()\n",
    "    words = tokenizer.tokenize(tweet)\n",
    "\n",
    "    \n",
    "    ### Apostrophe handling:    you're   -> you are  ########################\n",
    "    APPO = {\"aren't\" : \"are not\", \"can't\" : \"cannot\", \"couldn't\" : \"could not\", \"didn't\" : \"did not\", \"doesn't\" : \"does not\", \"don't\" : \"do not\", \"hadn't\" : \"had not\", \"hasn't\" : \"has not\", \"haven't\" : \"have not\", \"he'd\" : \"he would\", \"he'll\" : \"he will\", \"he's\" : \"he is\", \"i'd\" : \"I would\", \"i'd\" : \"I had\", \"i'll\" : \"I will\", \"i'm\" : \"I am\", \"isn't\" : \"is not\", \"it's\" : \"it is\", \"it'll\":\"it will\", \"i've\" : \"I have\", \"let's\" : \"let us\", \"mightn't\" : \"might not\", \"mustn't\" : \"must not\", \"shan't\" : \"shall not\", \"she'd\" : \"she would\", \"she'll\" : \"she will\", \"she's\" : \"she is\", \"shouldn't\" : \"should not\", \"that's\" : \"that is\", \"there's\" : \"there is\", \"they'd\" : \"they would\", \"they'll\" : \"they will\", \"they're\" : \"they are\", \"they've\" : \"they have\", \"we'd\" : \"we would\", \"we're\" : \"we are\", \"weren't\" : \"were not\", \"we've\" : \"we have\", \"what'll\" : \"what will\", \"what're\" : \"what are\", \"what's\" : \"what is\", \"what've\" : \"what have\", \"where's\" : \"where is\", \"who'd\" : \"who would\", \"who'll\" : \"who will\", \"who're\" : \"who are\", \"who's\" : \"who is\", \"who've\" : \"who have\", \"won't\" : \"will not\", \"wouldn't\" : \"would not\", \"you'd\" : \"you would\", \"you'll\" : \"you will\", \"you're\" : \"you are\", \"you've\" : \"you have\", \"'re\": \" are\", \"wasn't\": \"was not\", \"we'll\":\" will\", \"didn't\": \"did not\"}\n",
    "    if appostrophe_handling:\n",
    "        words = [APPO[word] if word in APPO else word for word in words]\n",
    "\n",
    "    \n",
    "    ### Lemmatisation:          drinking -> drink ###########################\n",
    "    if lemmatize:\n",
    "        lemmatizer = WordNetLemmatizer()\n",
    "        words = [lemmatizer.lemmatize(word, \"v\") for word in words]\n",
    "    \n",
    "    \n",
    "    ### Remove stop words:      is, that, the, ... ##########################\n",
    "    if remove_stopwords:\n",
    "        eng_stopwords = set(stopwords.words(\"english\"))\n",
    "        words = [w for w in words if not w in eng_stopwords]\n",
    "\n",
    "    clean_tweet = \" \".join(words)\n",
    "    clean_tweet = re.sub(\"  \",\" \",clean_tweet)\n",
    "    \n",
    "    return clean_tweet"
   ]
  },
  {
   "cell_type": "markdown",
   "metadata": {},
   "source": [
    "## 1. LOAD DATA AND PRE-PROCESS"
   ]
  },
  {
   "cell_type": "code",
   "execution_count": null,
   "metadata": {
    "scrolled": false
   },
   "outputs": [],
   "source": [
    "params = dict(remove_USER_URL=True,\n",
    "              remove_stopwords=False,\n",
    "              remove_HTMLentities=True,\n",
    "              remove_punctuation=True,\n",
    "              appostrophe_handling=True,\n",
    "              lemmatize=True)\n",
    "\n",
    "#### TRAINING SET ####################################################################################\n",
    "train_df = pd.read_csv('../OffensEval_data/training/offenseval-training-v1.tsv',sep='\\t')\n",
    "\n",
    "tweets_train = train_df['tweet'];\n",
    "labels_train = train_df['subtask_a'];\n",
    "\n",
    "# Process all tweets\n",
    "print(\"Pre-processing train tweets...\", end=\"\")\n",
    "clean_tweets_train = tweets_train.apply(lambda x: process_tweet(x, **params, trial=False)).values\n",
    "print(\" - Done!\")\n",
    "\n",
    "# Binarize labels ('OFF -> 1', 'NOT' -> 0) and print stats\n",
    "y = labels_train.replace({'OFF': 1, 'NOT': 0}).values\n",
    "\n",
    "labs, counts = np.unique(y, return_counts=True)\n",
    "print(\"\\n\\nTraining Set:\\nLabel   Count   Percentage\")\n",
    "for label, count in zip(labs, counts):\n",
    "    print(\"{}       {}    {:0.2f}%\".format(label, count, count/len(y)*100))\n",
    "\n",
    "# Assign weights to each class to deal with imbalance of dataset (penalizes the loss function based on sample support)\n",
    "class_weights = sklearn.utils.class_weight.compute_class_weight('balanced', np.unique(y), y.reshape(-1))\n",
    "\n",
    "## Balance dataset\n",
    "if balance_dataset:\n",
    "#     from sklearn.utils import shuffle\n",
    "    from random import shuffle\n",
    "\n",
    "    idx_0 = np.where(y==0)[0].tolist()\n",
    "    idx_1 = np.where(y==1)[0].tolist()\n",
    "\n",
    "    N = np.min([len(idx_0), len(idx_1)])\n",
    "    idx = idx_0[:N] + idx_1[:N]\n",
    "    shuffle(idx)\n",
    "    clean_tweets_train = clean_tweets_train[idx].reshape(-1)\n",
    "    display(clean_tweets_train.shape)\n",
    "    \n",
    "    y = y[idx].reshape(-1,1)\n",
    "\n",
    "    labs, counts = np.unique(y, return_counts=True)\n",
    "    print(\"\\n\\nTraining Set (After Balancing):\\nLabel   Count   Percentage\")\n",
    "    for label, count in zip(labs, counts):\n",
    "        print(\"{}       {}    {:0.2f}%\".format(label, count, count/len(y)*100))\n",
    "\n",
    "#### TRIAL (VAL) SET #####################################################################################\n",
    "trial_df = pd.read_csv('../OffensEval_data/trial/offenseval-trial.txt', sep='\\t')\n",
    "\n",
    "tweets_trial = trial_df['tweet'];\n",
    "labels_trial = trial_df['subtask_a'];\n",
    "\n",
    "# Process all tweets\n",
    "clean_tweets_trial = tweets_trial.apply(lambda x: process_tweet(x, **params, trial=True)).values\n",
    "\n",
    "# Binarize labels ('OFF -> 1', 'NOT' -> 0) and print stats\n",
    "y_trial = labels_trial.replace({'OFF': 1, 'NOT': 0}).values\n",
    "labs, counts = np.unique(y_trial, return_counts=True)\n",
    "print(\"\\n\\nTrial Set:\\nLabel   Count   Percentage\")\n",
    "for label, count in zip(labs, counts):\n",
    "    print(\"{}         {}    {:0.2f}%\".format(label, count, count/len(y_trial)*100))\n",
    "\n",
    "# Print pairs of non-processed and processed tweets\n",
    "print(\"\\n\\nEXAMPLES OF PROCESSED TWEETS [train/trial]\"\n",
    "print(\"_________________________________________________________________________________________________________\")\n",
    "for id in range(4):\n",
    "    print(\"Un-processed:  \" + tweets_train[id])\n",
    "    print(\"Processed:     \" + clean_tweets_train[id])\n",
    "    print(\"\")\n",
    "print(\"_________________________________________________________________________________________________________\")\n",
    "for id in range(4):\n",
    "    print(\"Un-processed:  \" + tweets_trial[id])\n",
    "    print(\"Processed:     \" + clean_tweets_trial[id])\n",
    "    print(\"\")"
   ]
  },
  {
   "cell_type": "markdown",
   "metadata": {},
   "source": [
    "#### Build Vocabulary by Hand (Not of any actual use, only to print size and unique word count)"
   ]
  },
  {
   "cell_type": "code",
   "execution_count": 6,
   "metadata": {},
   "outputs": [
    {
     "name": "stdout",
     "output_type": "stream",
     "text": [
      "This corpus contains 263726 tokens, of which 16071 are unique. I.e. avg of 19.92 words per tweet.\n"
     ]
    }
   ],
   "source": [
    "def get_tokenized_corpus(corpus):\n",
    "    tokenized_corpus = []\n",
    "    for sentence in corpus:\n",
    "        tokenized_sentence = []\n",
    "        for token in sentence.split(' '): \n",
    "            tokenized_sentence.append(token)\n",
    "        tokenized_corpus.append(tokenized_sentence)\n",
    "    return tokenized_corpus\n",
    "\n",
    "\n",
    "original_corpus = tweets_train.values\n",
    "clean_corpus = clean_tweets_train\n",
    "tokenized_corpus = get_tokenized_corpus(clean_corpus)\n",
    "tokenized_corpus\n",
    "\n",
    "vocabulary = []\n",
    "token_count = 0\n",
    "for sentence in tokenized_corpus:\n",
    "    for token in sentence:\n",
    "        token_count += 1\n",
    "        if token not in vocabulary:\n",
    "            vocabulary.append(token)\n",
    "            \n",
    "print(\"This corpus contains {} tokens, of which {} are unique. I.e. avg of {:0.2f} words per tweet.\".format(token_count, len(vocabulary), token_count/train_df.shape[0]))"
   ]
  },
  {
   "cell_type": "markdown",
   "metadata": {},
   "source": [
    "## Prepare Data for Model\n",
    "#### Tokenize tweets  |  Turn into Index sequences  |  Pad sequences to max_length  |  (optional) Use word embeddings"
   ]
  },
  {
   "cell_type": "markdown",
   "metadata": {},
   "source": [
    "##### GloVe Twitter word-embedding how to:\n",
    "1. Read embeddings and build a [word -> vector] dictionary\n",
    "2. Use tokenizer [word -> index] dictionary to iterate through all words in vocab\n",
    "3. For each word in vocab (iterate over [word -> index] tokenizer dictionary): \n",
    "    - Attempt to get word's embedding vector from GloVe Twitter [word -> vector]\n",
    "    - If word is in embedding's vocabulary: add the vector to the embedding matrix at the right index\n",
    "    - If not, do not do anything (respective vector will be [0, 0, 0, ..., 0]\n",
    "\n",
    "Embedding matrix will be of size (nb_words + 1, embedding_dim), this will be loaded into the embeddings layer later"
   ]
  },
  {
   "cell_type": "code",
   "execution_count": 7,
   "metadata": {
    "scrolled": false
   },
   "outputs": [
    {
     "name": "stdout",
     "output_type": "stream",
     "text": [
      "Num of unique tokens in tokenizer: 16371\n",
      "Building embedding index [word->vector]\n",
      " - Done! (43.25s)\n",
      "Building embedding matrix (16372, 100) - Done!\n",
      "This vocabulary has 16371 unique tokens of which 13292 are in the embeddings and 3079 are not\n"
     ]
    }
   ],
   "source": [
    "####################################################################################################\n",
    "##   BUILD VOCABULARY FROM CORPUS   ################################################################\n",
    "####################################################################################################\n",
    "max_seq_len    = 50\n",
    "max_features   = 30000\n",
    "\n",
    "# Tokenize all tweets\n",
    "tokenizer = Tokenizer(lower=True, filters='', split=' ')\n",
    "all_tweets = list(clean_tweets_train) + list(clean_tweets_trial)\n",
    "tokenizer.fit_on_texts(all_tweets)\n",
    "print(f\"Num of unique tokens in tokenizer: {len(tokenizer.word_index)}\")\n",
    "\n",
    "# Get sequences for each dataset\n",
    "sequences       = tokenizer.texts_to_sequences(clean_tweets_train)\n",
    "sequences_trial = tokenizer.texts_to_sequences(clean_tweets_trial)\n",
    "\n",
    "# Pad sequences\n",
    "X       = pad_sequences(sequences, maxlen = max_seq_len)\n",
    "X_trial = pad_sequences(sequences_trial, maxlen = max_seq_len)\n",
    "\n",
    "# Reshape labels\n",
    "y       = y.reshape(-1,1)\n",
    "y_trial = y_trial.reshape(-1,1)\n",
    "\n",
    "####################################################################################################\n",
    "##   GloVe EMBEDDINGS     ##########################################################################\n",
    "####################################################################################################\n",
    "if use_pretrained_embeddings:\n",
    "    # Download embeddings from https://nlp.stanford.edu/projects/glove/\n",
    "    #                          https://nlp.stanford.edu/data/glove.twitter.27B.zip\n",
    "    embedding_path = \"glove.twitter.27B.100d.txt\"\n",
    "    embed_size     = 100\n",
    "    \n",
    "    def get_coefs(word,*arr):\n",
    "        return word, np.asarray(arr, dtype='float32')\n",
    "\n",
    "    # Construct embedding table (word -> vector)\n",
    "    print(\"Building embedding index [word->vector]\", end=\"\\n\")\n",
    "    t0 = time.time()\n",
    "    embedding_index = dict(get_coefs(*o.strip().split(\" \")) for o in open(embedding_path, encoding=\"utf8\"))\n",
    "    print(\" - Done! ({:0.2f}s)\".format(time.time()-t0))\n",
    "\n",
    "    # Build Embedding Matrix\n",
    "\n",
    "    words_in_glove = 0\n",
    "    words_not_in_glove = 0\n",
    "    word_index = tokenizer.word_index\n",
    "    nb_words = min(max_features, len(word_index))\n",
    "    embedding_matrix = np.zeros((nb_words + 1, embed_size))\n",
    "    print(f\"Building embedding matrix {embedding_matrix.shape}\", end=\"\")\n",
    "    for word, i in word_index.items():\n",
    "        if i >= max_features: continue\n",
    "        embedding_vector = embedding_index.get(word)\n",
    "        if embedding_vector is not None:\n",
    "            embedding_matrix[i] = embedding_vector\n",
    "            words_in_glove += 1\n",
    "        else:\n",
    "            words_not_in_glove += 1\n",
    "    print(\" - Done!\")\n",
    "    print(\"This vocabulary has {} unique tokens of which {} are in the embeddings and {} are not\".format(len(word_index), words_in_glove, words_not_in_glove))"
   ]
  },
  {
   "cell_type": "code",
   "execution_count": 8,
   "metadata": {
    "scrolled": false
   },
   "outputs": [
    {
     "name": "stdout",
     "output_type": "stream",
     "text": [
      "Mean sentence length: 19.9 words\n",
      "MAX  sentence length: 65 words\n"
     ]
    },
    {
     "data": {
      "image/png": "[encoded data removed]",
      "text/plain": [
       "<Figure size 1080x360 with 1 Axes>"
      ]
     },
     "metadata": {
      "needs_background": "light"
     },
     "output_type": "display_data"
    }
   ],
   "source": [
    "sentence_lengths = [len(tokens) for tokens in sequences]\n",
    "print(\"Mean sentence length: {:0.1f} words\".format(np.mean(sentence_lengths)))\n",
    "print(\"MAX  sentence length: {} words\".format(np.max(sentence_lengths)))\n",
    "\n",
    "fig = plt.figure(figsize=(15, 5)) \n",
    "plt.xlabel('Tweet length', fontsize=15)\n",
    "plt.ylabel('Number of Tweets', fontsize=15)\n",
    "plt.hist(sentence_lengths, bins=list(range(70)))\n",
    "plt.show()"
   ]
  },
  {
   "cell_type": "markdown",
   "metadata": {},
   "source": [
    "# 2. BUILD MODEL & TRAIN"
   ]
  },
  {
   "cell_type": "markdown",
   "metadata": {},
   "source": [
    "### Define RNN Models"
   ]
  },
  {
   "cell_type": "code",
   "execution_count": null,
   "metadata": {},
   "outputs": [],
   "source": [
    "def build_Bi_GRU_LSTM_CN_model(lr=0.001, lr_decay=0.01, recurrent_units=0, dropout=0.0):\n",
    "    # Model architecture\n",
    "    inputs = Input(shape = (max_seq_len,), name=\"Input\")\n",
    "    \n",
    "    emb = Embedding(nb_words+1, embed_size, trainable=train_embeddings, name=\"WordEmbeddings\")(inputs)\n",
    "    emb = SpatialDropout1D(dropout)(emb)\n",
    "\n",
    "    gru_out  = Bidirectional(CuDNNGRU(recurrent_units, return_sequences = True), name=\"Bi_GRU\")(emb)\n",
    "    gru_out  = Conv1D(32, 4, activation='relu', padding='valid', kernel_initializer='he_uniform')(gru_out)\n",
    "\n",
    "    lstm_out = Bidirectional(CuDNNLSTM(recurrent_units, return_sequences = True), name=\"Bi_LSTM\")(emb)\n",
    "    lstm_out = Conv1D(32, 4, activation='relu', padding='valid', kernel_initializer='he_uniform')(lstm_out)\n",
    "\n",
    "    avg_pool1 = GlobalAveragePooling1D(name=\"GlobalAVGPooling_GRU\")(gru_out)\n",
    "    max_pool1 = GlobalMaxPooling1D(name=\"GlobalMAXPooling_GRU\")(gru_out)\n",
    "\n",
    "    avg_pool2 = GlobalAveragePooling1D(name=\"GlobalAVGPooling_LSTM\")(lstm_out)\n",
    "    max_pool2 = GlobalMaxPooling1D(name=\"GlobalMAXPooling_LSTM\")(lstm_out) \n",
    "\n",
    "    x = concatenate([avg_pool1, max_pool1, avg_pool2, max_pool2])\n",
    "\n",
    "    outputs = Dense(1, activation='sigmoid', name=\"Output\")(x)\n",
    "    \n",
    "    model = Model(inputs,outputs)\n",
    "    \n",
    "    return model, 1\n",
    "\n",
    "def build_LSTM():\n",
    "    model = Sequential()\n",
    "    model.add(Embedding(nb_words+1, embed_size, input_length=max_seq_len, trainable=train_embeddings, name=\"Embeddings\"))\n",
    "    EMBEDDING_DIM = embed_size\n",
    "    model.add(Dropout(DROPOUT))\n",
    "#     model.add(Bidirectional(LSTM(EMBEDDING_DIM, dropout=LSTM_DROPOUT, recurrent_dropout=LSTM_DROPOUT)))\n",
    "#     model.add(Bidirectional(GRU(EMBEDDING_DIM, dropout=LSTM_DROPOUT, recurrent_dropout=LSTM_DROPOUT)))\n",
    "#     model.add(GRU(EMBEDDING_DIM, dropout=LSTM_DROPOUT, recurrent_dropout=LSTM_DROPOUT))\n",
    "#     model.add(Bidirectional(GRU(EMBEDDING_DIM, dropout=LSTM_DROPOUT, recurrent_dropout=LSTM_DROPOUT)))\n",
    "#     model.add(CuDNNGRU(EMBEDDING_DIM))\n",
    "    model.add(Bidirectional(CuDNNLSTM(EMBEDDING_DIM)))\n",
    "    model.add(Dense(1, activation='sigmoid'))\n",
    "    return model, 0\n",
    "\n",
    "def build_CNN_LSTM():\n",
    "    EMBEDDING_DIM = embed_size\n",
    "    model = Sequential()\n",
    "    model.add(Embedding(nb_words+1, EMBEDDING_DIM, input_length=max_seq_len, trainable=train_embeddings, name=\"Embeddings\"))\n",
    "    model.add(SpatialDropout1D(DROPOUT))\n",
    "    model.add(Conv1D(64, 4, activation='relu', kernel_initializer='he_uniform'))\n",
    "    model.add(MaxPooling1D(pool_size=4))\n",
    "    model.add(Bidirectional(LSTM(EMBEDDING_DIM, dropout=LSTM_DROPOUT, recurrent_dropout=LSTM_DROPOUT)))\n",
    "    model.add(Dense(1, activation='sigmoid'))\n",
    "    return model, 0\n",
    "\n",
    "def build_LSTM_CNN():\n",
    "    EMBEDDING_DIM = embed_size\n",
    "    model = Sequential()\n",
    "    model.add(Embedding(nb_words+1, EMBEDDING_DIM, input_length=max_seq_len, trainable=train_embeddings, name=\"Embeddings\"))\n",
    "#     model.add(SpatialDropout1D(DROPOUT))\n",
    "    model.add(Dropout(DROPOUT))\n",
    "    model.add(Bidirectional(CuDNNLSTM(EMBEDDING_DIM, return_sequences=True)))\n",
    "#     model.add(Bidirectional(LSTM(EMBEDDING_DIM, return_sequences=True, dropout=LSTM_DROPOUT, recurrent_dropout=LSTM_DROPOUT)))\n",
    "    model.add(Conv1D(64, kernel_size=2, activation='relu', padding='valid', kernel_initializer='he_uniform'))\n",
    "    model.add(Flatten())\n",
    "    model.add(Dense(1, activation='sigmoid'))\n",
    "\n",
    "    return model, 0"
   ]
  },
  {
   "cell_type": "markdown",
   "metadata": {},
   "source": [
    "### Build and Train"
   ]
  },
  {
   "cell_type": "code",
   "execution_count": 17,
   "metadata": {
    "scrolled": false
   },
   "outputs": [
    {
     "name": "stdout",
     "output_type": "stream",
     "text": [
      "[0.025, 0.001, 50, 16, 100, 0.3, 0.0]\n",
      "_________________________________________________________________\n",
      "Layer (type)                 Output Shape              Param #   \n",
      "=================================================================\n",
      "Embeddings (Embedding)       (None, 50, 100)           1637200   \n",
      "_________________________________________________________________\n",
      "dropout_5 (Dropout)          (None, 50, 100)           0         \n",
      "_________________________________________________________________\n",
      "cu_dnngru_2 (CuDNNGRU)       (None, 50, 100)           60600     \n",
      "_________________________________________________________________\n",
      "conv1d_2 (Conv1D)            (None, 49, 64)            12864     \n",
      "_________________________________________________________________\n",
      "flatten_2 (Flatten)          (None, 3136)              0         \n",
      "_________________________________________________________________\n",
      "dense_5 (Dense)              (None, 1)                 3137      \n",
      "=================================================================\n",
      "Total params: 1,713,801\n",
      "Trainable params: 76,601\n",
      "Non-trainable params: 1,637,200\n",
      "_________________________________________________________________\n",
      "Train on 13240 samples, validate on 320 samples\n",
      "Epoch 1/50\n",
      "13240/13240 [==============================] - 27s 2ms/step - loss: 0.6456 - acc: 0.6667 - val_loss: 0.5755 - val_acc: 0.7594\n",
      "\n",
      "Epoch 00001: val_loss improved from inf to 0.57547, saving model to weights-improvement-01-0.75938-0.57547.hdf5\n"
     ]
    },
    {
     "name": "stderr",
     "output_type": "stream",
     "text": [
      "C:\\Users\\acamb\\AppData\\Local\\Continuum\\anaconda3\\envs\\fresh36\\lib\\site-packages\\sklearn\\metrics\\classification.py:1143: UndefinedMetricWarning: F-score is ill-defined and being set to 0.0 in labels with no predicted samples.\n",
      "  'precision', 'predicted', average, warn_for)\n"
     ]
    },
    {
     "name": "stdout",
     "output_type": "stream",
     "text": [
      "     - LR: 0.02500 train_auc: 0.5000 - train_F1: 0.4004 - val_auc: 0.5000 - val_F1: 0.4316\n"
     ]
    },
    {
     "data": {
      "image/png": "[encoded data removed]",
      "text/plain": [
       "<Figure size 1008x252 with 1 Axes>"
      ]
     },
     "metadata": {
      "needs_background": "light"
     },
     "output_type": "display_data"
    },
    {
     "name": "stdout",
     "output_type": "stream",
     "text": [
      "Epoch 2/50\n",
      " 6512/13240 [=============>................] - ETA: 11s - loss: 0.6418 - acc: 0.6594"
     ]
    },
    {
     "ename": "KeyboardInterrupt",
     "evalue": "",
     "output_type": "error",
     "traceback": [
      "\u001b[1;31m---------------------------------------------------------------------------\u001b[0m",
      "\u001b[1;31mKeyboardInterrupt\u001b[0m                         Traceback (most recent call last)",
      "\u001b[1;32m<ipython-input-17-8aef3abfb518>\u001b[0m in \u001b[0;36m<module>\u001b[1;34m\u001b[0m\n\u001b[0;32m     42\u001b[0m \u001b[1;33m\u001b[0m\u001b[0m\n\u001b[0;32m     43\u001b[0m train_history = model.fit(X, y, validation_data=(X_trial, y_trial), class_weight=class_weights, batch_size=BATCH_SIZE, epochs=EPOCHS,\n\u001b[1;32m---> 44\u001b[1;33m                           verbose=1, callbacks=[earlystop, checkpoint, auc_f1])\n\u001b[0m\u001b[0;32m     45\u001b[0m \u001b[1;31m#---------------------------------------------------------------------------------------------------------------\u001b[0m\u001b[1;33m\u001b[0m\u001b[1;33m\u001b[0m\u001b[1;33m\u001b[0m\u001b[0m\n",
      "\u001b[1;32m~\\AppData\\Local\\Continuum\\anaconda3\\envs\\fresh36\\lib\\site-packages\\keras\\engine\\training.py\u001b[0m in \u001b[0;36mfit\u001b[1;34m(self, x, y, batch_size, epochs, verbose, callbacks, validation_split, validation_data, shuffle, class_weight, sample_weight, initial_epoch, steps_per_epoch, validation_steps, **kwargs)\u001b[0m\n\u001b[0;32m   1037\u001b[0m                                         \u001b[0minitial_epoch\u001b[0m\u001b[1;33m=\u001b[0m\u001b[0minitial_epoch\u001b[0m\u001b[1;33m,\u001b[0m\u001b[1;33m\u001b[0m\u001b[1;33m\u001b[0m\u001b[0m\n\u001b[0;32m   1038\u001b[0m                                         \u001b[0msteps_per_epoch\u001b[0m\u001b[1;33m=\u001b[0m\u001b[0msteps_per_epoch\u001b[0m\u001b[1;33m,\u001b[0m\u001b[1;33m\u001b[0m\u001b[1;33m\u001b[0m\u001b[0m\n\u001b[1;32m-> 1039\u001b[1;33m                                         validation_steps=validation_steps)\n\u001b[0m\u001b[0;32m   1040\u001b[0m \u001b[1;33m\u001b[0m\u001b[0m\n\u001b[0;32m   1041\u001b[0m     def evaluate(self, x=None, y=None,\n",
      "\u001b[1;32m~\\AppData\\Local\\Continuum\\anaconda3\\envs\\fresh36\\lib\\site-packages\\keras\\engine\\training_arrays.py\u001b[0m in \u001b[0;36mfit_loop\u001b[1;34m(model, f, ins, out_labels, batch_size, epochs, verbose, callbacks, val_f, val_ins, shuffle, callback_metrics, initial_epoch, steps_per_epoch, validation_steps)\u001b[0m\n\u001b[0;32m    197\u001b[0m                     \u001b[0mins_batch\u001b[0m\u001b[1;33m[\u001b[0m\u001b[0mi\u001b[0m\u001b[1;33m]\u001b[0m \u001b[1;33m=\u001b[0m \u001b[0mins_batch\u001b[0m\u001b[1;33m[\u001b[0m\u001b[0mi\u001b[0m\u001b[1;33m]\u001b[0m\u001b[1;33m.\u001b[0m\u001b[0mtoarray\u001b[0m\u001b[1;33m(\u001b[0m\u001b[1;33m)\u001b[0m\u001b[1;33m\u001b[0m\u001b[1;33m\u001b[0m\u001b[0m\n\u001b[0;32m    198\u001b[0m \u001b[1;33m\u001b[0m\u001b[0m\n\u001b[1;32m--> 199\u001b[1;33m                 \u001b[0mouts\u001b[0m \u001b[1;33m=\u001b[0m \u001b[0mf\u001b[0m\u001b[1;33m(\u001b[0m\u001b[0mins_batch\u001b[0m\u001b[1;33m)\u001b[0m\u001b[1;33m\u001b[0m\u001b[1;33m\u001b[0m\u001b[0m\n\u001b[0m\u001b[0;32m    200\u001b[0m                 \u001b[0mouts\u001b[0m \u001b[1;33m=\u001b[0m \u001b[0mto_list\u001b[0m\u001b[1;33m(\u001b[0m\u001b[0mouts\u001b[0m\u001b[1;33m)\u001b[0m\u001b[1;33m\u001b[0m\u001b[1;33m\u001b[0m\u001b[0m\n\u001b[0;32m    201\u001b[0m                 \u001b[1;32mfor\u001b[0m \u001b[0ml\u001b[0m\u001b[1;33m,\u001b[0m \u001b[0mo\u001b[0m \u001b[1;32min\u001b[0m \u001b[0mzip\u001b[0m\u001b[1;33m(\u001b[0m\u001b[0mout_labels\u001b[0m\u001b[1;33m,\u001b[0m \u001b[0mouts\u001b[0m\u001b[1;33m)\u001b[0m\u001b[1;33m:\u001b[0m\u001b[1;33m\u001b[0m\u001b[1;33m\u001b[0m\u001b[0m\n",
      "\u001b[1;32m~\\AppData\\Local\\Continuum\\anaconda3\\envs\\fresh36\\lib\\site-packages\\keras\\backend\\tensorflow_backend.py\u001b[0m in \u001b[0;36m__call__\u001b[1;34m(self, inputs)\u001b[0m\n\u001b[0;32m   2713\u001b[0m                 \u001b[1;32mreturn\u001b[0m \u001b[0mself\u001b[0m\u001b[1;33m.\u001b[0m\u001b[0m_legacy_call\u001b[0m\u001b[1;33m(\u001b[0m\u001b[0minputs\u001b[0m\u001b[1;33m)\u001b[0m\u001b[1;33m\u001b[0m\u001b[1;33m\u001b[0m\u001b[0m\n\u001b[0;32m   2714\u001b[0m \u001b[1;33m\u001b[0m\u001b[0m\n\u001b[1;32m-> 2715\u001b[1;33m             \u001b[1;32mreturn\u001b[0m \u001b[0mself\u001b[0m\u001b[1;33m.\u001b[0m\u001b[0m_call\u001b[0m\u001b[1;33m(\u001b[0m\u001b[0minputs\u001b[0m\u001b[1;33m)\u001b[0m\u001b[1;33m\u001b[0m\u001b[1;33m\u001b[0m\u001b[0m\n\u001b[0m\u001b[0;32m   2716\u001b[0m         \u001b[1;32melse\u001b[0m\u001b[1;33m:\u001b[0m\u001b[1;33m\u001b[0m\u001b[1;33m\u001b[0m\u001b[0m\n\u001b[0;32m   2717\u001b[0m             \u001b[1;32mif\u001b[0m \u001b[0mpy_any\u001b[0m\u001b[1;33m(\u001b[0m\u001b[0mis_tensor\u001b[0m\u001b[1;33m(\u001b[0m\u001b[0mx\u001b[0m\u001b[1;33m)\u001b[0m \u001b[1;32mfor\u001b[0m \u001b[0mx\u001b[0m \u001b[1;32min\u001b[0m \u001b[0minputs\u001b[0m\u001b[1;33m)\u001b[0m\u001b[1;33m:\u001b[0m\u001b[1;33m\u001b[0m\u001b[1;33m\u001b[0m\u001b[0m\n",
      "\u001b[1;32m~\\AppData\\Local\\Continuum\\anaconda3\\envs\\fresh36\\lib\\site-packages\\keras\\backend\\tensorflow_backend.py\u001b[0m in \u001b[0;36m_call\u001b[1;34m(self, inputs)\u001b[0m\n\u001b[0;32m   2673\u001b[0m             \u001b[0mfetched\u001b[0m \u001b[1;33m=\u001b[0m \u001b[0mself\u001b[0m\u001b[1;33m.\u001b[0m\u001b[0m_callable_fn\u001b[0m\u001b[1;33m(\u001b[0m\u001b[1;33m*\u001b[0m\u001b[0marray_vals\u001b[0m\u001b[1;33m,\u001b[0m \u001b[0mrun_metadata\u001b[0m\u001b[1;33m=\u001b[0m\u001b[0mself\u001b[0m\u001b[1;33m.\u001b[0m\u001b[0mrun_metadata\u001b[0m\u001b[1;33m)\u001b[0m\u001b[1;33m\u001b[0m\u001b[1;33m\u001b[0m\u001b[0m\n\u001b[0;32m   2674\u001b[0m         \u001b[1;32melse\u001b[0m\u001b[1;33m:\u001b[0m\u001b[1;33m\u001b[0m\u001b[1;33m\u001b[0m\u001b[0m\n\u001b[1;32m-> 2675\u001b[1;33m             \u001b[0mfetched\u001b[0m \u001b[1;33m=\u001b[0m \u001b[0mself\u001b[0m\u001b[1;33m.\u001b[0m\u001b[0m_callable_fn\u001b[0m\u001b[1;33m(\u001b[0m\u001b[1;33m*\u001b[0m\u001b[0marray_vals\u001b[0m\u001b[1;33m)\u001b[0m\u001b[1;33m\u001b[0m\u001b[1;33m\u001b[0m\u001b[0m\n\u001b[0m\u001b[0;32m   2676\u001b[0m         \u001b[1;32mreturn\u001b[0m \u001b[0mfetched\u001b[0m\u001b[1;33m[\u001b[0m\u001b[1;33m:\u001b[0m\u001b[0mlen\u001b[0m\u001b[1;33m(\u001b[0m\u001b[0mself\u001b[0m\u001b[1;33m.\u001b[0m\u001b[0moutputs\u001b[0m\u001b[1;33m)\u001b[0m\u001b[1;33m]\u001b[0m\u001b[1;33m\u001b[0m\u001b[1;33m\u001b[0m\u001b[0m\n\u001b[0;32m   2677\u001b[0m \u001b[1;33m\u001b[0m\u001b[0m\n",
      "\u001b[1;32m~\\AppData\\Local\\Continuum\\anaconda3\\envs\\fresh36\\lib\\site-packages\\tensorflow\\python\\client\\session.py\u001b[0m in \u001b[0;36m__call__\u001b[1;34m(self, *args, **kwargs)\u001b[0m\n\u001b[0;32m   1437\u001b[0m           ret = tf_session.TF_SessionRunCallable(\n\u001b[0;32m   1438\u001b[0m               \u001b[0mself\u001b[0m\u001b[1;33m.\u001b[0m\u001b[0m_session\u001b[0m\u001b[1;33m.\u001b[0m\u001b[0m_session\u001b[0m\u001b[1;33m,\u001b[0m \u001b[0mself\u001b[0m\u001b[1;33m.\u001b[0m\u001b[0m_handle\u001b[0m\u001b[1;33m,\u001b[0m \u001b[0margs\u001b[0m\u001b[1;33m,\u001b[0m \u001b[0mstatus\u001b[0m\u001b[1;33m,\u001b[0m\u001b[1;33m\u001b[0m\u001b[1;33m\u001b[0m\u001b[0m\n\u001b[1;32m-> 1439\u001b[1;33m               run_metadata_ptr)\n\u001b[0m\u001b[0;32m   1440\u001b[0m         \u001b[1;32mif\u001b[0m \u001b[0mrun_metadata\u001b[0m\u001b[1;33m:\u001b[0m\u001b[1;33m\u001b[0m\u001b[1;33m\u001b[0m\u001b[0m\n\u001b[0;32m   1441\u001b[0m           \u001b[0mproto_data\u001b[0m \u001b[1;33m=\u001b[0m \u001b[0mtf_session\u001b[0m\u001b[1;33m.\u001b[0m\u001b[0mTF_GetBuffer\u001b[0m\u001b[1;33m(\u001b[0m\u001b[0mrun_metadata_ptr\u001b[0m\u001b[1;33m)\u001b[0m\u001b[1;33m\u001b[0m\u001b[1;33m\u001b[0m\u001b[0m\n",
      "\u001b[1;31mKeyboardInterrupt\u001b[0m: "
     ]
    }
   ],
   "source": [
    "from keras import optimizers\n",
    "from keras.callbacks import EarlyStopping, ModelCheckpoint\n",
    "\n",
    "# SET HYPERPARAMETERS -------------------------------------------------------------------------------------------\n",
    "LR               = 0.025\n",
    "LR_DECAY         = 0.001\n",
    "EPOCHS           = 50\n",
    "BATCH_SIZE       = 16\n",
    "EMBEDDING_DIM    = embed_size\n",
    "DROPOUT          = 0.3     # Connection drop ratio for CNN to LSTM dropout\n",
    "LSTM_DROPOUT     = 0.0     # Connection drop ratio for gate-specific dropout\n",
    "BIDIRECTIONAL    = True\n",
    "train_embeddings = not use_pretrained_embeddings\n",
    "print([LR, LR_DECAY, EPOCHS, BATCH_SIZE, EMBEDDING_DIM, DROPOUT, LSTM_DROPOUT])\n",
    "#---------------------------------------------------------------------------------------------------------------\n",
    "\n",
    "\n",
    "# BUILD MODEL --------------------------------------------------------------------------------------------------\n",
    "# can select which architecture to use (simple LSTM works pretty well)\n",
    "# model, embed_idx = build_LSTM()\n",
    "# model, embed_idx = build_CNN_LSTM()\n",
    "model, embed_idx = build_LSTM_CNN()\n",
    "# model, embed_idx = build_Bi_GRU_LSTM_CN_model(LR, LR_DECAY, embed_size, DROPOUT)\n",
    "#---------------------------------------------------------------------------------------------------------------\n",
    "\n",
    "\n",
    "# OPTIMIZER | COMPILE | EMBEDDINGS -----------------------------------------------------------------------------\n",
    "adam = optimizers.Adam(lr=LR, decay=LR_DECAY)\n",
    "model.compile(loss='binary_crossentropy', optimizer=adam, metrics=['accuracy'])\n",
    "if use_pretrained_embeddings:\n",
    "    model.layers[embed_idx].set_weights([embedding_matrix])\n",
    "model.summary()\n",
    "#---------------------------------------------------------------------------------------------------------------\n",
    "\n",
    "\n",
    "# FIT THE MODEL ------------------------------------------------------------------------------------------------\n",
    "auc_f1     = ROC_F1(validation_data=(X_trial, y_trial), interval=1)\n",
    "earlystop  = EarlyStopping(monitor='val_loss', patience=15, verbose=1, mode='auto', restore_best_weights=True)\n",
    "filepath=\"weights-improvement-{epoch:02d}-{val_acc:.5f}-{val_loss:.5f}.hdf5\"\n",
    "checkpoint = ModelCheckpoint(filepath, save_best_only=True, monitor='val_loss', verbose=1, mode='min')\n",
    "\n",
    "\n",
    "train_history = model.fit(X, y, validation_data=(X_trial, y_trial), class_weight=class_weights, batch_size=BATCH_SIZE, epochs=EPOCHS,\n",
    "                          verbose=1, callbacks=[earlystop, checkpoint, auc_f1])\n",
    "#---------------------------------------------------------------------------------------------------------------"
   ]
  },
  {
   "cell_type": "code",
   "execution_count": null,
   "metadata": {
    "scrolled": false
   },
   "outputs": [],
   "source": [
    "# y_pred = model.predict(X_trial)\n",
    "# np.unique(np.round(y_pred), return_counts=True)\n",
    "# train_history_backup50 = train_history\n",
    "# train_history = model.fit(X, y, validation_data=(X_trial, y_trial), class_weight=class_weights, batch_size=BATCH_SIZE, epochs=EPOCHS,\n",
    "#                           verbose=1, callbacks=[earlystop, checkpoint, auc_f1])\n",
    "\n",
    "print()"
   ]
  },
  {
   "cell_type": "markdown",
   "metadata": {},
   "source": [
    "### Training History, Classification Report\n"
   ]
  },
  {
   "cell_type": "code",
   "execution_count": 15,
   "metadata": {
    "scrolled": false
   },
   "outputs": [
    {
     "data": {
      "image/png": "[encoded data removed]",
      "text/plain": [
       "<Figure size 1008x252 with 1 Axes>"
      ]
     },
     "metadata": {
      "needs_background": "light"
     },
     "output_type": "display_data"
    },
    {
     "data": {
      "image/png": "[encoded data removed]",
      "text/plain": [
       "<Figure size 1008x252 with 1 Axes>"
      ]
     },
     "metadata": {
      "needs_background": "light"
     },
     "output_type": "display_data"
    },
    {
     "name": "stdout",
     "output_type": "stream",
     "text": [
      "Validation Accuracy: 86.25%\n"
     ]
    },
    {
     "data": {
      "image/png": "[encoded data removed]",
      "text/plain": [
       "<Figure size 720x720 with 2 Axes>"
      ]
     },
     "metadata": {
      "needs_background": "light"
     },
     "output_type": "display_data"
    },
    {
     "name": "stdout",
     "output_type": "stream",
     "text": [
      "[[221  22]\n",
      " [ 22  55]]\n",
      "              precision    recall  f1-score   support\n",
      "\n",
      "           0       0.91      0.91      0.91       243\n",
      "           1       0.71      0.71      0.71        77\n",
      "\n",
      "   micro avg       0.86      0.86      0.86       320\n",
      "   macro avg       0.81      0.81      0.81       320\n",
      "weighted avg       0.86      0.86      0.86       320\n",
      "\n"
     ]
    }
   ],
   "source": [
    "height = 3.5;    width = height*4\n",
    "n_epochs = 40\n",
    "# n_epochs = len(train_history.history['loss'])\n",
    "\n",
    "# Plot Loss\n",
    "# plt.figure(figsize=(width,height))\n",
    "# plt.plot(train_history.history['loss'], label=\"Train Loss\")\n",
    "# plt.plot(train_history.history['val_loss'], label=\"Validation Loss\")\n",
    "# plt.xlim([0,n_epochs-1]); plt.xticks(list(range(n_epochs)));   plt.grid(True);   plt.legend()\n",
    "# plt.title(\"Loss (Binary Cross-entropy)\", fontsize=15)\n",
    "# plt.show()\n",
    "\n",
    "# # Plot accuracy\n",
    "# plt.figure(figsize=(width,height))\n",
    "# plt.plot(train_history.history['acc'], label=\"Train Accuracy\")\n",
    "# plt.plot(train_history.history['val_acc'], label=\"Validation Accuracy\")\n",
    "# plt.xlim([0,n_epochs-1]); plt.xticks(list(range(n_epochs)));   plt.grid(True);   plt.legend()\n",
    "# plt.title(\"Accuracy\", fontsize=15)\n",
    "# plt.show()\n",
    "\n",
    "# Plot F1\n",
    "plt.figure(figsize=(width,height))\n",
    "plt.plot(auc_f1.f1s_train, label=\"Train F1\")\n",
    "plt.plot(auc_f1.f1s_val, label=\"Validation F1\")\n",
    "plt.xlim([0,n_epochs-1]); plt.xticks(list(range(n_epochs)));   plt.grid(True);   plt.legend()\n",
    "plt.title(\"F1-score\", fontsize=15)\n",
    "plt.show()\n",
    "\n",
    "# # Plot ROC AUC\n",
    "plt.figure(figsize=(width,height))\n",
    "plt.plot(auc_f1.aucs_train, label=\"Train ROC AUC\")\n",
    "plt.plot(auc_f1.aucs_val, label=\"Validation ROC AUC\")\n",
    "plt.xlim([0,n_epochs-1]); plt.xticks(list(range(n_epochs)));   plt.grid(True);   plt.legend()\n",
    "plt.legend()\n",
    "plt.title(\"ROC AUC\", fontsize=15)\n",
    "plt.show()\n",
    "\n",
    "##### Confusion matrix & Classication Report ###################################################\n",
    "import itertools\n",
    "from sklearn.metrics import confusion_matrix\n",
    "\n",
    "def plot_confusion_matrix(cm, classes,\n",
    "                          normalize=False,\n",
    "                          title='Confusion matrix',\n",
    "                          cmap=plt.cm.winter):\n",
    "    if normalize:\n",
    "        cm = cm.astype('float') / cm.sum(axis=1)[:, np.newaxis]\n",
    "    plt.imshow(cm, interpolation='nearest', cmap=cmap)\n",
    "    plt.title(title, fontsize=30)\n",
    "    plt.colorbar()\n",
    "    tick_marks = np.arange(len(classes))\n",
    "    plt.xticks(tick_marks, classes, fontsize=20)\n",
    "    plt.yticks(tick_marks, classes, fontsize=20)\n",
    "    \n",
    "    fmt = '.2f' if normalize else 'd'\n",
    "    thresh = cm.max() / 2.\n",
    "\n",
    "    for i, j in itertools.product(range(cm.shape[0]), range(cm.shape[1])):\n",
    "        plt.text(j, i, format(cm[i, j], fmt), horizontalalignment=\"center\", \n",
    "                 color=\"white\" if cm[i, j] < thresh else \"black\", fontsize=40)\n",
    "    \n",
    "    plt.tight_layout()\n",
    "    plt.ylabel('True label', fontsize=30)\n",
    "    plt.xlabel('Predicted label', fontsize=30)\n",
    "\n",
    "    return plt\n",
    "\n",
    "\n",
    "X_eval = X_trial\n",
    "y_eval = y_trial\n",
    "\n",
    "y_pred = model.predict(X_eval)\n",
    "y_pred = np.round(y_pred)\n",
    "print(\"Validation Accuracy: {:0.2f}%\".format(np.sum(y_eval==y_pred)/y_eval.shape[0]*100))\n",
    "\n",
    "cm = confusion_matrix(y_eval, y_pred)\n",
    "fig = plt.figure(figsize=(10, 10))\n",
    "plot = plot_confusion_matrix(cm, classes=['NOT-OFFENSIVE','OFFENSIVE'], normalize=True, title='Confusion matrix')\n",
    "plt.show()\n",
    "print(cm)\n",
    "\n",
    "\n",
    "from sklearn.metrics import classification_report\n",
    "print(classification_report(y_eval, y_pred))"
   ]
  },
  {
   "cell_type": "code",
   "execution_count": null,
   "metadata": {},
   "outputs": [],
   "source": [
    "# TO USE TWITTER GLOVE EMBEDDINGS ##########################\n",
    "# https://nlp.stanford.edu/projects/glove/\n",
    "# https://nlp.stanford.edu/data/glove.twitter.27B.zip\n",
    "\n",
    "# PRE-PROCESS\n",
    "import re\n",
    "def glove_preprocess(text):\n",
    "    \"\"\"\n",
    "    adapted from https://nlp.stanford.edu/projects/glove/preprocess-twitter.rb\n",
    "    \"\"\"\n",
    "    # Different regex parts for smiley faces\n",
    "    eyes = \"[8:=;]\"\n",
    "    nose = \"['`\\-]?\"\n",
    "    text = re.sub(r'http\\S+', '<URL> ', text)\n",
    "    text = re.sub(r'@\\S+', '<USER>', text)\n",
    "    text = re.sub(\"www.* \", \"<URL>\", text)\n",
    "    text = re.sub(\"\\[\\[User(.*)\\|\", '<USER>', text)\n",
    "    text = re.sub(\"<3\", r'<HEART> ', text)\n",
    "    text = re.sub(\"[-+]?[.\\d]*[\\d]+[:,.\\d]*\", \"<NUMBER>\", text)\n",
    "    text = re.sub(eyes + nose + \"[Dd)]\", '<SMILE>', text)\n",
    "    text = re.sub(\"[(d]\" + nose + eyes, '<SMILE>', text)\n",
    "    text = re.sub(eyes + nose + \"p\", '<LOLFACE>', text)\n",
    "    text = re.sub(eyes + nose + \"\\(\", '<SADFACE>', text)\n",
    "    text = re.sub(\"\\)\" + nose + eyes, '<SADFACE>', text)\n",
    "    text = re.sub(eyes + nose + \"[/|l*]\", '<NEUTRALFACE>', text)\n",
    "    text = re.sub(\"/\", \" / \", text)\n",
    "    text = re.sub(\"[-+]?[.\\d]*[\\d]+[:,.\\d]*\", \"<NUMBER>\", text)\n",
    "    text = re.sub(\"([!]){2,}\", \"! <REPEAT>\", text)\n",
    "    text = re.sub(\"([?]){2,}\", \"? <REPEAT>\", text)\n",
    "    text = re.sub(\"([.]){2,}\", \". <REPEAT>\", text)\n",
    "    pattern = re.compile(r\"(.)\\1{2,}\")\n",
    "    text = pattern.sub(r\"\\1\" + \" <ELONG>\", text)\n",
    "    return text"
   ]
  },
  {
   "cell_type": "code",
   "execution_count": null,
   "metadata": {},
   "outputs": [],
   "source": [
    "text = \"@handermoren you are an absolute moron ???????? idiot 6 :( :p :) https://google.es\"\n",
    "print(text)\n",
    "text = glove_preprocess(text)\n",
    "print(text)"
   ]
  }
 ],
 "metadata": {
  "kernelspec": {
   "display_name": "Python 3",
   "language": "python",
   "name": "python3"
  },
  "language_info": {
   "codemirror_mode": {
    "name": "ipython",
    "version": 3
   },
   "file_extension": ".py",
   "mimetype": "text/x-python",
   "name": "python",
   "nbconvert_exporter": "python",
   "pygments_lexer": "ipython3",
   "version": "3.6.8"
  },
  "varInspector": {
   "cols": {
    "lenName": 16,
    "lenType": 16,
    "lenVar": 40
   },
   "kernels_config": {
    "python": {
     "delete_cmd_postfix": "",
     "delete_cmd_prefix": "del ",
     "library": "var_list.py",
     "varRefreshCmd": "print(var_dic_list())"
    },
    "r": {
     "delete_cmd_postfix": ") ",
     "delete_cmd_prefix": "rm(",
     "library": "var_list.r",
     "varRefreshCmd": "cat(var_dic_list()) "
    }
   },
   "position": {
    "height": "482px",
    "left": "1550px",
    "right": "20px",
    "top": "120px",
    "width": "350px"
   },
   "types_to_exclude": [
    "module",
    "function",
    "builtin_function_or_method",
    "instance",
    "_Feature"
   ],
   "window_display": false
  }
 },
 "nbformat": 4,
 "nbformat_minor": 2
}
